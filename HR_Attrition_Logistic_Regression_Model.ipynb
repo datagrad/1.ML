{
  "nbformat": 4,
  "nbformat_minor": 0,
  "metadata": {
    "colab": {
      "provenance": [],
      "collapsed_sections": [
        "FUBuPX_b4N8S",
        "7eO8viZd4T_o",
        "nPXXCklW4cuK",
        "xfZX1KTY5hl3",
        "xygcse2l5pO8",
        "uuzfjxls5ygf",
        "xScZ2xtU520a",
        "een8o1wj6ALC",
        "gC-fwA1Z6FOe",
        "nT3WwSX3pAc4",
        "ZH5Asw_qqZri"
      ],
      "authorship_tag": "ABX9TyNK6Ko5awraSQm57rHhxloG",
      "include_colab_link": true
    },
    "kernelspec": {
      "name": "python3",
      "display_name": "Python 3"
    },
    "language_info": {
      "name": "python"
    }
  },
  "cells": [
    {
      "cell_type": "markdown",
      "metadata": {
        "id": "view-in-github",
        "colab_type": "text"
      },
      "source": [
        "<a href=\"https://colab.research.google.com/github/datagrad/1.ML/blob/main/HR_Attrition_Logistic_Regression_Model.ipynb\" target=\"_parent\"><img src=\"https://colab.research.google.com/assets/colab-badge.svg\" alt=\"Open In Colab\"/></a>"
      ]
    },
    {
      "cell_type": "markdown",
      "source": [
        "## 1.Import data and libraries (MODULAR)"
      ],
      "metadata": {
        "id": "FUBuPX_b4N8S"
      }
    },
    {
      "cell_type": "code",
      "source": [
        "import numpy as np\n",
        "import pandas as pd\n",
        "import matplotlib.pyplot as plt"
      ],
      "metadata": {
        "id": "8U6ne4TgVvDk"
      },
      "execution_count": 1,
      "outputs": []
    },
    {
      "cell_type": "code",
      "source": [
        "url = 'https://raw.githubusercontent.com/datagrad/DataScience-Projects/main/HR-Employee-Attrition.csv'\n",
        "hr_data = pd.read_csv(url)\n",
        "hr_data.head()"
      ],
      "metadata": {
        "id": "L_G7r_IGjpPK",
        "colab": {
          "base_uri": "https://localhost:8080/",
          "height": 325
        },
        "outputId": "346b65ce-077b-4c86-ce98-5af6a0830324"
      },
      "execution_count": 2,
      "outputs": [
        {
          "output_type": "execute_result",
          "data": {
            "text/plain": [
              "   Age Attrition     BusinessTravel  DailyRate              Department  \\\n",
              "0   41       Yes      Travel_Rarely       1102                   Sales   \n",
              "1   49        No  Travel_Frequently        279  Research & Development   \n",
              "2   37       Yes      Travel_Rarely       1373  Research & Development   \n",
              "3   33        No  Travel_Frequently       1392  Research & Development   \n",
              "4   27        No      Travel_Rarely        591  Research & Development   \n",
              "\n",
              "   DistanceFromHome  Education EducationField  EmployeeCount  EmployeeNumber  \\\n",
              "0                 1          2  Life Sciences              1               1   \n",
              "1                 8          1  Life Sciences              1               2   \n",
              "2                 2          2          Other              1               4   \n",
              "3                 3          4  Life Sciences              1               5   \n",
              "4                 2          1        Medical              1               7   \n",
              "\n",
              "   ...  RelationshipSatisfaction StandardHours  StockOptionLevel  \\\n",
              "0  ...                         1            80                 0   \n",
              "1  ...                         4            80                 1   \n",
              "2  ...                         2            80                 0   \n",
              "3  ...                         3            80                 0   \n",
              "4  ...                         4            80                 1   \n",
              "\n",
              "   TotalWorkingYears  TrainingTimesLastYear WorkLifeBalance  YearsAtCompany  \\\n",
              "0                  8                      0               1               6   \n",
              "1                 10                      3               3              10   \n",
              "2                  7                      3               3               0   \n",
              "3                  8                      3               3               8   \n",
              "4                  6                      3               3               2   \n",
              "\n",
              "  YearsInCurrentRole  YearsSinceLastPromotion  YearsWithCurrManager  \n",
              "0                  4                        0                     5  \n",
              "1                  7                        1                     7  \n",
              "2                  0                        0                     0  \n",
              "3                  7                        3                     0  \n",
              "4                  2                        2                     2  \n",
              "\n",
              "[5 rows x 35 columns]"
            ],
            "text/html": [
              "\n",
              "  <div id=\"df-a72d8949-b46a-4a87-ab57-2abec5e75744\" class=\"colab-df-container\">\n",
              "    <div>\n",
              "<style scoped>\n",
              "    .dataframe tbody tr th:only-of-type {\n",
              "        vertical-align: middle;\n",
              "    }\n",
              "\n",
              "    .dataframe tbody tr th {\n",
              "        vertical-align: top;\n",
              "    }\n",
              "\n",
              "    .dataframe thead th {\n",
              "        text-align: right;\n",
              "    }\n",
              "</style>\n",
              "<table border=\"1\" class=\"dataframe\">\n",
              "  <thead>\n",
              "    <tr style=\"text-align: right;\">\n",
              "      <th></th>\n",
              "      <th>Age</th>\n",
              "      <th>Attrition</th>\n",
              "      <th>BusinessTravel</th>\n",
              "      <th>DailyRate</th>\n",
              "      <th>Department</th>\n",
              "      <th>DistanceFromHome</th>\n",
              "      <th>Education</th>\n",
              "      <th>EducationField</th>\n",
              "      <th>EmployeeCount</th>\n",
              "      <th>EmployeeNumber</th>\n",
              "      <th>...</th>\n",
              "      <th>RelationshipSatisfaction</th>\n",
              "      <th>StandardHours</th>\n",
              "      <th>StockOptionLevel</th>\n",
              "      <th>TotalWorkingYears</th>\n",
              "      <th>TrainingTimesLastYear</th>\n",
              "      <th>WorkLifeBalance</th>\n",
              "      <th>YearsAtCompany</th>\n",
              "      <th>YearsInCurrentRole</th>\n",
              "      <th>YearsSinceLastPromotion</th>\n",
              "      <th>YearsWithCurrManager</th>\n",
              "    </tr>\n",
              "  </thead>\n",
              "  <tbody>\n",
              "    <tr>\n",
              "      <th>0</th>\n",
              "      <td>41</td>\n",
              "      <td>Yes</td>\n",
              "      <td>Travel_Rarely</td>\n",
              "      <td>1102</td>\n",
              "      <td>Sales</td>\n",
              "      <td>1</td>\n",
              "      <td>2</td>\n",
              "      <td>Life Sciences</td>\n",
              "      <td>1</td>\n",
              "      <td>1</td>\n",
              "      <td>...</td>\n",
              "      <td>1</td>\n",
              "      <td>80</td>\n",
              "      <td>0</td>\n",
              "      <td>8</td>\n",
              "      <td>0</td>\n",
              "      <td>1</td>\n",
              "      <td>6</td>\n",
              "      <td>4</td>\n",
              "      <td>0</td>\n",
              "      <td>5</td>\n",
              "    </tr>\n",
              "    <tr>\n",
              "      <th>1</th>\n",
              "      <td>49</td>\n",
              "      <td>No</td>\n",
              "      <td>Travel_Frequently</td>\n",
              "      <td>279</td>\n",
              "      <td>Research &amp; Development</td>\n",
              "      <td>8</td>\n",
              "      <td>1</td>\n",
              "      <td>Life Sciences</td>\n",
              "      <td>1</td>\n",
              "      <td>2</td>\n",
              "      <td>...</td>\n",
              "      <td>4</td>\n",
              "      <td>80</td>\n",
              "      <td>1</td>\n",
              "      <td>10</td>\n",
              "      <td>3</td>\n",
              "      <td>3</td>\n",
              "      <td>10</td>\n",
              "      <td>7</td>\n",
              "      <td>1</td>\n",
              "      <td>7</td>\n",
              "    </tr>\n",
              "    <tr>\n",
              "      <th>2</th>\n",
              "      <td>37</td>\n",
              "      <td>Yes</td>\n",
              "      <td>Travel_Rarely</td>\n",
              "      <td>1373</td>\n",
              "      <td>Research &amp; Development</td>\n",
              "      <td>2</td>\n",
              "      <td>2</td>\n",
              "      <td>Other</td>\n",
              "      <td>1</td>\n",
              "      <td>4</td>\n",
              "      <td>...</td>\n",
              "      <td>2</td>\n",
              "      <td>80</td>\n",
              "      <td>0</td>\n",
              "      <td>7</td>\n",
              "      <td>3</td>\n",
              "      <td>3</td>\n",
              "      <td>0</td>\n",
              "      <td>0</td>\n",
              "      <td>0</td>\n",
              "      <td>0</td>\n",
              "    </tr>\n",
              "    <tr>\n",
              "      <th>3</th>\n",
              "      <td>33</td>\n",
              "      <td>No</td>\n",
              "      <td>Travel_Frequently</td>\n",
              "      <td>1392</td>\n",
              "      <td>Research &amp; Development</td>\n",
              "      <td>3</td>\n",
              "      <td>4</td>\n",
              "      <td>Life Sciences</td>\n",
              "      <td>1</td>\n",
              "      <td>5</td>\n",
              "      <td>...</td>\n",
              "      <td>3</td>\n",
              "      <td>80</td>\n",
              "      <td>0</td>\n",
              "      <td>8</td>\n",
              "      <td>3</td>\n",
              "      <td>3</td>\n",
              "      <td>8</td>\n",
              "      <td>7</td>\n",
              "      <td>3</td>\n",
              "      <td>0</td>\n",
              "    </tr>\n",
              "    <tr>\n",
              "      <th>4</th>\n",
              "      <td>27</td>\n",
              "      <td>No</td>\n",
              "      <td>Travel_Rarely</td>\n",
              "      <td>591</td>\n",
              "      <td>Research &amp; Development</td>\n",
              "      <td>2</td>\n",
              "      <td>1</td>\n",
              "      <td>Medical</td>\n",
              "      <td>1</td>\n",
              "      <td>7</td>\n",
              "      <td>...</td>\n",
              "      <td>4</td>\n",
              "      <td>80</td>\n",
              "      <td>1</td>\n",
              "      <td>6</td>\n",
              "      <td>3</td>\n",
              "      <td>3</td>\n",
              "      <td>2</td>\n",
              "      <td>2</td>\n",
              "      <td>2</td>\n",
              "      <td>2</td>\n",
              "    </tr>\n",
              "  </tbody>\n",
              "</table>\n",
              "<p>5 rows × 35 columns</p>\n",
              "</div>\n",
              "    <div class=\"colab-df-buttons\">\n",
              "\n",
              "  <div class=\"colab-df-container\">\n",
              "    <button class=\"colab-df-convert\" onclick=\"convertToInteractive('df-a72d8949-b46a-4a87-ab57-2abec5e75744')\"\n",
              "            title=\"Convert this dataframe to an interactive table.\"\n",
              "            style=\"display:none;\">\n",
              "\n",
              "  <svg xmlns=\"http://www.w3.org/2000/svg\" height=\"24px\" viewBox=\"0 -960 960 960\">\n",
              "    <path d=\"M120-120v-720h720v720H120Zm60-500h600v-160H180v160Zm220 220h160v-160H400v160Zm0 220h160v-160H400v160ZM180-400h160v-160H180v160Zm440 0h160v-160H620v160ZM180-180h160v-160H180v160Zm440 0h160v-160H620v160Z\"/>\n",
              "  </svg>\n",
              "    </button>\n",
              "\n",
              "  <style>\n",
              "    .colab-df-container {\n",
              "      display:flex;\n",
              "      gap: 12px;\n",
              "    }\n",
              "\n",
              "    .colab-df-convert {\n",
              "      background-color: #E8F0FE;\n",
              "      border: none;\n",
              "      border-radius: 50%;\n",
              "      cursor: pointer;\n",
              "      display: none;\n",
              "      fill: #1967D2;\n",
              "      height: 32px;\n",
              "      padding: 0 0 0 0;\n",
              "      width: 32px;\n",
              "    }\n",
              "\n",
              "    .colab-df-convert:hover {\n",
              "      background-color: #E2EBFA;\n",
              "      box-shadow: 0px 1px 2px rgba(60, 64, 67, 0.3), 0px 1px 3px 1px rgba(60, 64, 67, 0.15);\n",
              "      fill: #174EA6;\n",
              "    }\n",
              "\n",
              "    .colab-df-buttons div {\n",
              "      margin-bottom: 4px;\n",
              "    }\n",
              "\n",
              "    [theme=dark] .colab-df-convert {\n",
              "      background-color: #3B4455;\n",
              "      fill: #D2E3FC;\n",
              "    }\n",
              "\n",
              "    [theme=dark] .colab-df-convert:hover {\n",
              "      background-color: #434B5C;\n",
              "      box-shadow: 0px 1px 3px 1px rgba(0, 0, 0, 0.15);\n",
              "      filter: drop-shadow(0px 1px 2px rgba(0, 0, 0, 0.3));\n",
              "      fill: #FFFFFF;\n",
              "    }\n",
              "  </style>\n",
              "\n",
              "    <script>\n",
              "      const buttonEl =\n",
              "        document.querySelector('#df-a72d8949-b46a-4a87-ab57-2abec5e75744 button.colab-df-convert');\n",
              "      buttonEl.style.display =\n",
              "        google.colab.kernel.accessAllowed ? 'block' : 'none';\n",
              "\n",
              "      async function convertToInteractive(key) {\n",
              "        const element = document.querySelector('#df-a72d8949-b46a-4a87-ab57-2abec5e75744');\n",
              "        const dataTable =\n",
              "          await google.colab.kernel.invokeFunction('convertToInteractive',\n",
              "                                                    [key], {});\n",
              "        if (!dataTable) return;\n",
              "\n",
              "        const docLinkHtml = 'Like what you see? Visit the ' +\n",
              "          '<a target=\"_blank\" href=https://colab.research.google.com/notebooks/data_table.ipynb>data table notebook</a>'\n",
              "          + ' to learn more about interactive tables.';\n",
              "        element.innerHTML = '';\n",
              "        dataTable['output_type'] = 'display_data';\n",
              "        await google.colab.output.renderOutput(dataTable, element);\n",
              "        const docLink = document.createElement('div');\n",
              "        docLink.innerHTML = docLinkHtml;\n",
              "        element.appendChild(docLink);\n",
              "      }\n",
              "    </script>\n",
              "  </div>\n",
              "\n",
              "\n",
              "<div id=\"df-d9b10b88-24e3-492e-8ac7-6114eb5c4171\">\n",
              "  <button class=\"colab-df-quickchart\" onclick=\"quickchart('df-d9b10b88-24e3-492e-8ac7-6114eb5c4171')\"\n",
              "            title=\"Suggest charts\"\n",
              "            style=\"display:none;\">\n",
              "\n",
              "<svg xmlns=\"http://www.w3.org/2000/svg\" height=\"24px\"viewBox=\"0 0 24 24\"\n",
              "     width=\"24px\">\n",
              "    <g>\n",
              "        <path d=\"M19 3H5c-1.1 0-2 .9-2 2v14c0 1.1.9 2 2 2h14c1.1 0 2-.9 2-2V5c0-1.1-.9-2-2-2zM9 17H7v-7h2v7zm4 0h-2V7h2v10zm4 0h-2v-4h2v4z\"/>\n",
              "    </g>\n",
              "</svg>\n",
              "  </button>\n",
              "\n",
              "<style>\n",
              "  .colab-df-quickchart {\n",
              "      --bg-color: #E8F0FE;\n",
              "      --fill-color: #1967D2;\n",
              "      --hover-bg-color: #E2EBFA;\n",
              "      --hover-fill-color: #174EA6;\n",
              "      --disabled-fill-color: #AAA;\n",
              "      --disabled-bg-color: #DDD;\n",
              "  }\n",
              "\n",
              "  [theme=dark] .colab-df-quickchart {\n",
              "      --bg-color: #3B4455;\n",
              "      --fill-color: #D2E3FC;\n",
              "      --hover-bg-color: #434B5C;\n",
              "      --hover-fill-color: #FFFFFF;\n",
              "      --disabled-bg-color: #3B4455;\n",
              "      --disabled-fill-color: #666;\n",
              "  }\n",
              "\n",
              "  .colab-df-quickchart {\n",
              "    background-color: var(--bg-color);\n",
              "    border: none;\n",
              "    border-radius: 50%;\n",
              "    cursor: pointer;\n",
              "    display: none;\n",
              "    fill: var(--fill-color);\n",
              "    height: 32px;\n",
              "    padding: 0;\n",
              "    width: 32px;\n",
              "  }\n",
              "\n",
              "  .colab-df-quickchart:hover {\n",
              "    background-color: var(--hover-bg-color);\n",
              "    box-shadow: 0 1px 2px rgba(60, 64, 67, 0.3), 0 1px 3px 1px rgba(60, 64, 67, 0.15);\n",
              "    fill: var(--button-hover-fill-color);\n",
              "  }\n",
              "\n",
              "  .colab-df-quickchart-complete:disabled,\n",
              "  .colab-df-quickchart-complete:disabled:hover {\n",
              "    background-color: var(--disabled-bg-color);\n",
              "    fill: var(--disabled-fill-color);\n",
              "    box-shadow: none;\n",
              "  }\n",
              "\n",
              "  .colab-df-spinner {\n",
              "    border: 2px solid var(--fill-color);\n",
              "    border-color: transparent;\n",
              "    border-bottom-color: var(--fill-color);\n",
              "    animation:\n",
              "      spin 1s steps(1) infinite;\n",
              "  }\n",
              "\n",
              "  @keyframes spin {\n",
              "    0% {\n",
              "      border-color: transparent;\n",
              "      border-bottom-color: var(--fill-color);\n",
              "      border-left-color: var(--fill-color);\n",
              "    }\n",
              "    20% {\n",
              "      border-color: transparent;\n",
              "      border-left-color: var(--fill-color);\n",
              "      border-top-color: var(--fill-color);\n",
              "    }\n",
              "    30% {\n",
              "      border-color: transparent;\n",
              "      border-left-color: var(--fill-color);\n",
              "      border-top-color: var(--fill-color);\n",
              "      border-right-color: var(--fill-color);\n",
              "    }\n",
              "    40% {\n",
              "      border-color: transparent;\n",
              "      border-right-color: var(--fill-color);\n",
              "      border-top-color: var(--fill-color);\n",
              "    }\n",
              "    60% {\n",
              "      border-color: transparent;\n",
              "      border-right-color: var(--fill-color);\n",
              "    }\n",
              "    80% {\n",
              "      border-color: transparent;\n",
              "      border-right-color: var(--fill-color);\n",
              "      border-bottom-color: var(--fill-color);\n",
              "    }\n",
              "    90% {\n",
              "      border-color: transparent;\n",
              "      border-bottom-color: var(--fill-color);\n",
              "    }\n",
              "  }\n",
              "</style>\n",
              "\n",
              "  <script>\n",
              "    async function quickchart(key) {\n",
              "      const quickchartButtonEl =\n",
              "        document.querySelector('#' + key + ' button');\n",
              "      quickchartButtonEl.disabled = true;  // To prevent multiple clicks.\n",
              "      quickchartButtonEl.classList.add('colab-df-spinner');\n",
              "      try {\n",
              "        const charts = await google.colab.kernel.invokeFunction(\n",
              "            'suggestCharts', [key], {});\n",
              "      } catch (error) {\n",
              "        console.error('Error during call to suggestCharts:', error);\n",
              "      }\n",
              "      quickchartButtonEl.classList.remove('colab-df-spinner');\n",
              "      quickchartButtonEl.classList.add('colab-df-quickchart-complete');\n",
              "    }\n",
              "    (() => {\n",
              "      let quickchartButtonEl =\n",
              "        document.querySelector('#df-d9b10b88-24e3-492e-8ac7-6114eb5c4171 button');\n",
              "      quickchartButtonEl.style.display =\n",
              "        google.colab.kernel.accessAllowed ? 'block' : 'none';\n",
              "    })();\n",
              "  </script>\n",
              "</div>\n",
              "\n",
              "    </div>\n",
              "  </div>\n"
            ],
            "application/vnd.google.colaboratory.intrinsic+json": {
              "type": "dataframe",
              "variable_name": "hr_data"
            }
          },
          "metadata": {},
          "execution_count": 2
        }
      ]
    },
    {
      "cell_type": "code",
      "source": [
        "hr_data.info()"
      ],
      "metadata": {
        "id": "QkwCdOC-mxAk",
        "colab": {
          "base_uri": "https://localhost:8080/"
        },
        "outputId": "6fe836f4-109b-4060-fabf-25fadf2cb3cd"
      },
      "execution_count": 3,
      "outputs": [
        {
          "output_type": "stream",
          "name": "stdout",
          "text": [
            "<class 'pandas.core.frame.DataFrame'>\n",
            "RangeIndex: 1470 entries, 0 to 1469\n",
            "Data columns (total 35 columns):\n",
            " #   Column                    Non-Null Count  Dtype \n",
            "---  ------                    --------------  ----- \n",
            " 0   Age                       1470 non-null   int64 \n",
            " 1   Attrition                 1470 non-null   object\n",
            " 2   BusinessTravel            1470 non-null   object\n",
            " 3   DailyRate                 1470 non-null   int64 \n",
            " 4   Department                1470 non-null   object\n",
            " 5   DistanceFromHome          1470 non-null   int64 \n",
            " 6   Education                 1470 non-null   int64 \n",
            " 7   EducationField            1470 non-null   object\n",
            " 8   EmployeeCount             1470 non-null   int64 \n",
            " 9   EmployeeNumber            1470 non-null   int64 \n",
            " 10  EnvironmentSatisfaction   1470 non-null   int64 \n",
            " 11  Gender                    1470 non-null   object\n",
            " 12  HourlyRate                1470 non-null   int64 \n",
            " 13  JobInvolvement            1470 non-null   int64 \n",
            " 14  JobLevel                  1470 non-null   int64 \n",
            " 15  JobRole                   1470 non-null   object\n",
            " 16  JobSatisfaction           1470 non-null   int64 \n",
            " 17  MaritalStatus             1470 non-null   object\n",
            " 18  MonthlyIncome             1470 non-null   int64 \n",
            " 19  MonthlyRate               1470 non-null   int64 \n",
            " 20  NumCompaniesWorked        1470 non-null   int64 \n",
            " 21  Over18                    1470 non-null   object\n",
            " 22  OverTime                  1470 non-null   object\n",
            " 23  PercentSalaryHike         1470 non-null   int64 \n",
            " 24  PerformanceRating         1470 non-null   int64 \n",
            " 25  RelationshipSatisfaction  1470 non-null   int64 \n",
            " 26  StandardHours             1470 non-null   int64 \n",
            " 27  StockOptionLevel          1470 non-null   int64 \n",
            " 28  TotalWorkingYears         1470 non-null   int64 \n",
            " 29  TrainingTimesLastYear     1470 non-null   int64 \n",
            " 30  WorkLifeBalance           1470 non-null   int64 \n",
            " 31  YearsAtCompany            1470 non-null   int64 \n",
            " 32  YearsInCurrentRole        1470 non-null   int64 \n",
            " 33  YearsSinceLastPromotion   1470 non-null   int64 \n",
            " 34  YearsWithCurrManager      1470 non-null   int64 \n",
            "dtypes: int64(26), object(9)\n",
            "memory usage: 402.1+ KB\n"
          ]
        }
      ]
    },
    {
      "cell_type": "markdown",
      "source": [
        "## 2.Identify Target Variable and convert it to binary"
      ],
      "metadata": {
        "id": "7eO8viZd4T_o"
      }
    },
    {
      "cell_type": "code",
      "source": [
        "hr_data.Attrition.value_counts()"
      ],
      "metadata": {
        "id": "1twKNjgIjpS4",
        "colab": {
          "base_uri": "https://localhost:8080/"
        },
        "outputId": "8c94adb6-369b-4c6c-af9e-ec5893297062"
      },
      "execution_count": 4,
      "outputs": [
        {
          "output_type": "execute_result",
          "data": {
            "text/plain": [
              "No     1233\n",
              "Yes     237\n",
              "Name: Attrition, dtype: int64"
            ]
          },
          "metadata": {},
          "execution_count": 4
        }
      ]
    },
    {
      "cell_type": "code",
      "source": [
        "hr_data['Attrition'] = hr_data['Attrition'].map({'Yes': 1, 'No': 0})"
      ],
      "metadata": {
        "id": "ZIvJMPAqjpV-"
      },
      "execution_count": 5,
      "outputs": []
    },
    {
      "cell_type": "markdown",
      "source": [
        "## 3.Convert Categorical Variables using OneHotEncoder (MODULAR)"
      ],
      "metadata": {
        "id": "nPXXCklW4cuK"
      }
    },
    {
      "cell_type": "code",
      "source": [
        "from sklearn.preprocessing import OneHotEncoder\n",
        "\n",
        "\n",
        "# One-hot encode the categorical variables\n",
        "categorical_columns = hr_data.select_dtypes(include=['object']).columns\n",
        "one_hot_encoder = OneHotEncoder(sparse=False, drop='first')\n",
        "categorical_data_encoded = one_hot_encoder.fit_transform(hr_data[categorical_columns])\n",
        "\n",
        "# Create a DataFrame with the encoded variables\n",
        "categorical_data_encoded_df = pd.DataFrame(categorical_data_encoded, columns=one_hot_encoder.get_feature_names_out(categorical_columns))\n",
        "\n",
        "\n",
        "# Drop the original categorical columns and concatenate the encoded DataFrame\n",
        "hr_data.drop(categorical_columns, axis=1, inplace=True)\n",
        "hr_data = pd.concat([hr_data, categorical_data_encoded_df], axis=1)"
      ],
      "metadata": {
        "id": "JMcmD6Ksn0Tt",
        "colab": {
          "base_uri": "https://localhost:8080/"
        },
        "outputId": "0a091464-b090-4010-b901-ecaedc92fc21"
      },
      "execution_count": 6,
      "outputs": [
        {
          "output_type": "stream",
          "name": "stderr",
          "text": [
            "/usr/local/lib/python3.10/dist-packages/sklearn/preprocessing/_encoders.py:868: FutureWarning: `sparse` was renamed to `sparse_output` in version 1.2 and will be removed in 1.4. `sparse_output` is ignored unless you leave `sparse` to its default value.\n",
            "  warnings.warn(\n"
          ]
        }
      ]
    },
    {
      "cell_type": "markdown",
      "source": [
        "## 4.X and y marking as Target and Dependent Variables"
      ],
      "metadata": {
        "id": "xfZX1KTY5hl3"
      }
    },
    {
      "cell_type": "code",
      "source": [
        "y = hr_data[['Attrition']]\n",
        "X = hr_data.drop('Attrition', axis = 1)"
      ],
      "metadata": {
        "id": "1Mk6DZ9RjpYr"
      },
      "execution_count": 7,
      "outputs": []
    },
    {
      "cell_type": "markdown",
      "source": [
        "## 11.Post VIF Check steps (Do Only Afte VIF check)"
      ],
      "metadata": {
        "id": "xygcse2l5pO8"
      }
    },
    {
      "cell_type": "code",
      "source": [
        "# Remodeling after VIF test by removing non significant vaiables from X\n",
        "# Dropping the non-significan variables after VIF Testing\n",
        "# Uncomment below this post VIF testing\n",
        "\n",
        "# columns_to_drop = ['Department_Research & Development', 'Department_Sales', 'EducationField_Life Sciences','MonthlyIncome','JobLevel','EmployeeCount','StandardHours']\n",
        "\n",
        "# X = X.drop(columns_to_drop, axis=1)\n",
        "\n",
        "# X.columns"
      ],
      "metadata": {
        "id": "2ly4sM6uzdPs"
      },
      "execution_count": 8,
      "outputs": []
    },
    {
      "cell_type": "markdown",
      "source": [
        "## 5.Train Test Split  (MODULAR)"
      ],
      "metadata": {
        "id": "uuzfjxls5ygf"
      }
    },
    {
      "cell_type": "code",
      "source": [
        "from sklearn.model_selection import train_test_split\n",
        "\n",
        "X_train, X_test, y_train, y_test = train_test_split(X,y,test_size =0.2, random_state = 35, shuffle=True)"
      ],
      "metadata": {
        "id": "kL9daL1YjpcJ"
      },
      "execution_count": 9,
      "outputs": []
    },
    {
      "cell_type": "markdown",
      "source": [
        "## 6.Scaler Transformation for dependent Variables  (MODULAR)"
      ],
      "metadata": {
        "id": "xScZ2xtU520a"
      }
    },
    {
      "cell_type": "code",
      "source": [
        "from sklearn.preprocessing import StandardScaler\n",
        "\n",
        "scalar = StandardScaler()\n",
        "X_train_scaled = scalar.fit_transform(X_train)\n",
        "X_test_scaled = scalar.transform(X_test)"
      ],
      "metadata": {
        "id": "YLWuOhgqk_-p"
      },
      "execution_count": 10,
      "outputs": []
    },
    {
      "cell_type": "markdown",
      "source": [
        "## 7.Fitting the logistic Regression Model  (MODULAR)"
      ],
      "metadata": {
        "id": "een8o1wj6ALC"
      }
    },
    {
      "cell_type": "code",
      "source": [
        "from sklearn.linear_model import LogisticRegression\n",
        "logistic = LogisticRegression()\n",
        "logistic.fit(X_train_scaled,y_train)\n"
      ],
      "metadata": {
        "id": "Kp8op4ShpObY",
        "colab": {
          "base_uri": "https://localhost:8080/",
          "height": 131
        },
        "outputId": "6524fbfe-23a4-4836-c6d0-50543a510c60"
      },
      "execution_count": 11,
      "outputs": [
        {
          "output_type": "stream",
          "name": "stderr",
          "text": [
            "/usr/local/lib/python3.10/dist-packages/sklearn/utils/validation.py:1143: DataConversionWarning: A column-vector y was passed when a 1d array was expected. Please change the shape of y to (n_samples, ), for example using ravel().\n",
            "  y = column_or_1d(y, warn=True)\n"
          ]
        },
        {
          "output_type": "execute_result",
          "data": {
            "text/plain": [
              "LogisticRegression()"
            ],
            "text/html": [
              "<style>#sk-container-id-1 {color: black;background-color: white;}#sk-container-id-1 pre{padding: 0;}#sk-container-id-1 div.sk-toggleable {background-color: white;}#sk-container-id-1 label.sk-toggleable__label {cursor: pointer;display: block;width: 100%;margin-bottom: 0;padding: 0.3em;box-sizing: border-box;text-align: center;}#sk-container-id-1 label.sk-toggleable__label-arrow:before {content: \"▸\";float: left;margin-right: 0.25em;color: #696969;}#sk-container-id-1 label.sk-toggleable__label-arrow:hover:before {color: black;}#sk-container-id-1 div.sk-estimator:hover label.sk-toggleable__label-arrow:before {color: black;}#sk-container-id-1 div.sk-toggleable__content {max-height: 0;max-width: 0;overflow: hidden;text-align: left;background-color: #f0f8ff;}#sk-container-id-1 div.sk-toggleable__content pre {margin: 0.2em;color: black;border-radius: 0.25em;background-color: #f0f8ff;}#sk-container-id-1 input.sk-toggleable__control:checked~div.sk-toggleable__content {max-height: 200px;max-width: 100%;overflow: auto;}#sk-container-id-1 input.sk-toggleable__control:checked~label.sk-toggleable__label-arrow:before {content: \"▾\";}#sk-container-id-1 div.sk-estimator input.sk-toggleable__control:checked~label.sk-toggleable__label {background-color: #d4ebff;}#sk-container-id-1 div.sk-label input.sk-toggleable__control:checked~label.sk-toggleable__label {background-color: #d4ebff;}#sk-container-id-1 input.sk-hidden--visually {border: 0;clip: rect(1px 1px 1px 1px);clip: rect(1px, 1px, 1px, 1px);height: 1px;margin: -1px;overflow: hidden;padding: 0;position: absolute;width: 1px;}#sk-container-id-1 div.sk-estimator {font-family: monospace;background-color: #f0f8ff;border: 1px dotted black;border-radius: 0.25em;box-sizing: border-box;margin-bottom: 0.5em;}#sk-container-id-1 div.sk-estimator:hover {background-color: #d4ebff;}#sk-container-id-1 div.sk-parallel-item::after {content: \"\";width: 100%;border-bottom: 1px solid gray;flex-grow: 1;}#sk-container-id-1 div.sk-label:hover label.sk-toggleable__label {background-color: #d4ebff;}#sk-container-id-1 div.sk-serial::before {content: \"\";position: absolute;border-left: 1px solid gray;box-sizing: border-box;top: 0;bottom: 0;left: 50%;z-index: 0;}#sk-container-id-1 div.sk-serial {display: flex;flex-direction: column;align-items: center;background-color: white;padding-right: 0.2em;padding-left: 0.2em;position: relative;}#sk-container-id-1 div.sk-item {position: relative;z-index: 1;}#sk-container-id-1 div.sk-parallel {display: flex;align-items: stretch;justify-content: center;background-color: white;position: relative;}#sk-container-id-1 div.sk-item::before, #sk-container-id-1 div.sk-parallel-item::before {content: \"\";position: absolute;border-left: 1px solid gray;box-sizing: border-box;top: 0;bottom: 0;left: 50%;z-index: -1;}#sk-container-id-1 div.sk-parallel-item {display: flex;flex-direction: column;z-index: 1;position: relative;background-color: white;}#sk-container-id-1 div.sk-parallel-item:first-child::after {align-self: flex-end;width: 50%;}#sk-container-id-1 div.sk-parallel-item:last-child::after {align-self: flex-start;width: 50%;}#sk-container-id-1 div.sk-parallel-item:only-child::after {width: 0;}#sk-container-id-1 div.sk-dashed-wrapped {border: 1px dashed gray;margin: 0 0.4em 0.5em 0.4em;box-sizing: border-box;padding-bottom: 0.4em;background-color: white;}#sk-container-id-1 div.sk-label label {font-family: monospace;font-weight: bold;display: inline-block;line-height: 1.2em;}#sk-container-id-1 div.sk-label-container {text-align: center;}#sk-container-id-1 div.sk-container {/* jupyter's `normalize.less` sets `[hidden] { display: none; }` but bootstrap.min.css set `[hidden] { display: none !important; }` so we also need the `!important` here to be able to override the default hidden behavior on the sphinx rendered scikit-learn.org. See: https://github.com/scikit-learn/scikit-learn/issues/21755 */display: inline-block !important;position: relative;}#sk-container-id-1 div.sk-text-repr-fallback {display: none;}</style><div id=\"sk-container-id-1\" class=\"sk-top-container\"><div class=\"sk-text-repr-fallback\"><pre>LogisticRegression()</pre><b>In a Jupyter environment, please rerun this cell to show the HTML representation or trust the notebook. <br />On GitHub, the HTML representation is unable to render, please try loading this page with nbviewer.org.</b></div><div class=\"sk-container\" hidden><div class=\"sk-item\"><div class=\"sk-estimator sk-toggleable\"><input class=\"sk-toggleable__control sk-hidden--visually\" id=\"sk-estimator-id-1\" type=\"checkbox\" checked><label for=\"sk-estimator-id-1\" class=\"sk-toggleable__label sk-toggleable__label-arrow\">LogisticRegression</label><div class=\"sk-toggleable__content\"><pre>LogisticRegression()</pre></div></div></div></div></div>"
            ]
          },
          "metadata": {},
          "execution_count": 11
        }
      ]
    },
    {
      "cell_type": "markdown",
      "source": [
        "## 8.Checking the prediction of the model  (MODULAR)"
      ],
      "metadata": {
        "id": "gC-fwA1Z6FOe"
      }
    },
    {
      "cell_type": "code",
      "source": [
        "logistic.predict(X_test_scaled)"
      ],
      "metadata": {
        "id": "JuHv-4vBpOk9",
        "colab": {
          "base_uri": "https://localhost:8080/"
        },
        "outputId": "39c3c7a6-8fd3-4e94-a316-97cbf0b16327"
      },
      "execution_count": 12,
      "outputs": [
        {
          "output_type": "execute_result",
          "data": {
            "text/plain": [
              "array([0, 0, 0, 0, 1, 0, 0, 0, 0, 0, 0, 0, 0, 0, 0, 0, 0, 1, 1, 0, 0, 0,\n",
              "       0, 0, 0, 0, 0, 0, 0, 0, 0, 1, 0, 0, 0, 1, 0, 0, 0, 0, 0, 0, 0, 0,\n",
              "       0, 0, 0, 0, 0, 0, 1, 0, 1, 0, 0, 1, 0, 0, 0, 0, 0, 0, 0, 0, 0, 0,\n",
              "       0, 0, 0, 0, 0, 0, 0, 0, 0, 0, 0, 0, 0, 0, 0, 0, 0, 0, 0, 0, 0, 0,\n",
              "       0, 0, 0, 0, 0, 0, 0, 0, 0, 0, 0, 0, 0, 1, 0, 0, 0, 0, 0, 0, 0, 0,\n",
              "       0, 0, 0, 0, 0, 0, 0, 0, 0, 0, 0, 1, 1, 0, 1, 0, 0, 0, 1, 0, 0, 0,\n",
              "       1, 0, 1, 0, 0, 0, 0, 0, 0, 0, 0, 0, 0, 0, 0, 0, 0, 0, 0, 0, 0, 0,\n",
              "       0, 0, 0, 0, 0, 1, 0, 0, 0, 0, 0, 0, 0, 0, 1, 0, 0, 0, 0, 0, 0, 0,\n",
              "       1, 0, 0, 0, 0, 0, 1, 0, 0, 0, 0, 0, 0, 0, 0, 0, 0, 0, 0, 0, 0, 0,\n",
              "       0, 0, 0, 0, 1, 0, 0, 0, 0, 0, 0, 0, 0, 0, 0, 0, 0, 0, 0, 0, 0, 0,\n",
              "       0, 0, 0, 0, 0, 0, 0, 0, 1, 0, 0, 0, 0, 0, 1, 0, 0, 0, 1, 0, 0, 0,\n",
              "       0, 0, 0, 0, 0, 0, 0, 1, 1, 0, 0, 0, 0, 0, 0, 0, 0, 0, 0, 0, 0, 0,\n",
              "       0, 1, 0, 0, 0, 1, 0, 0, 0, 0, 1, 0, 0, 0, 0, 0, 0, 1, 0, 0, 0, 0,\n",
              "       0, 0, 0, 0, 0, 0, 0, 0])"
            ]
          },
          "metadata": {},
          "execution_count": 12
        }
      ]
    },
    {
      "cell_type": "markdown",
      "source": [
        "## 9.Confusion_Matrix and Accuracy of the model:  (MODULAR)"
      ],
      "metadata": {
        "id": "nT3WwSX3pAc4"
      }
    },
    {
      "cell_type": "code",
      "source": [
        "from sklearn.metrics import confusion_matrix, accuracy_score, precision_score, recall_score, f1_score, roc_curve, auc\n",
        "import matplotlib.pyplot as plt\n",
        "\n",
        "\n",
        "# Making predictions on the scaled test set\n",
        "predictions = logistic.predict(X_test_scaled)\n",
        "prediction_probabilities = logistic.predict_proba(X_test_scaled)[:, 1]\n",
        "\n",
        "# Confusion Matrix : Provides a detailed breakdown of correct and incorrect classifications for each class, helping identify if the model is confusing two classes.\n",
        "conf_matrix = confusion_matrix(y_test, predictions)\n",
        "print(\"Confusion Matrix:\\n\", conf_matrix)\n",
        "\n",
        "# Accuracy : Measures the proportion of total correct predictions — useful as an overall metric but can be misleading for imbalanced classes.\n",
        "accuracy = accuracy_score(y_test, predictions)\n",
        "print(\"Accuracy:\", accuracy)\n",
        "\n",
        "# Precision : Indicates the reliability of the model's positive predictions. High precision means low false positives — important when the cost of false positives is high.\n",
        "precision = precision_score(y_test, predictions, pos_label=1)\n",
        "print(\"Precision:\", precision)\n",
        "\n",
        "# Recall : Measures the model's ability to detect positive instances. High recall means low false negatives — crucial when it's important to capture as many positives as possible.\n",
        "recall = recall_score(y_test, predictions, pos_label=1)\n",
        "print(\"Recall:\", recall)\n",
        "\n",
        "# F1 Score : Balances precision and recall, providing a single metric to assess the model's performance when you need a balance between precision and recall.\n",
        "f1 = f1_score(y_test, predictions, pos_label=1)\n",
        "print(\"F1 Score:\", f1)\n",
        "\n",
        "# ROC Curve and AUC : The curve helps visualize the trade-off between the true positive rate and false positive rate at various thresholds.\n",
        "# AUC summarizes the ROC curve into a single value, with higher values indicating better model performance, especially useful for comparing models.\n",
        "fpr, tpr, thresholds = roc_curve(y_test, prediction_probabilities)\n",
        "roc_auc = auc(fpr, tpr)\n",
        "\n",
        "# Plotting ROC Curve\n",
        "plt.figure()\n",
        "plt.plot(fpr, tpr, color='darkorange', lw=2, label='ROC curve (area = %0.2f)' % roc_auc)\n",
        "plt.plot([0, 1], [0, 1], color='navy', lw=2, linestyle='--')\n",
        "plt.xlim([0.0, 1.0])\n",
        "plt.ylim([0.0, 1.05])\n",
        "plt.xlabel('False Positive Rate (1-Specificity)')\n",
        "plt.ylabel('True Positive Rate (Sensitivity)')\n",
        "plt.title('Receiver Operating Characteristic (ROC Curve)')\n",
        "plt.legend(loc=\"lower right\")\n",
        "plt.show()\n"
      ],
      "metadata": {
        "id": "BhGV13LclFXU",
        "colab": {
          "base_uri": "https://localhost:8080/",
          "height": 599
        },
        "outputId": "272112d6-48fa-421c-a0cf-312273196f93"
      },
      "execution_count": 13,
      "outputs": [
        {
          "output_type": "stream",
          "name": "stdout",
          "text": [
            "Confusion Matrix:\n",
            " [[244  12]\n",
            " [ 21  17]]\n",
            "Accuracy: 0.8877551020408163\n",
            "Precision: 0.5862068965517241\n",
            "Recall: 0.4473684210526316\n",
            "F1 Score: 0.5074626865671642\n"
          ]
        },
        {
          "output_type": "display_data",
          "data": {
            "text/plain": [
              "<Figure size 640x480 with 1 Axes>"
            ],
            "image/png": "[encoded data removed]"
          },
          "metadata": {}
        }
      ]
    },
    {
      "cell_type": "markdown",
      "source": [
        "![image.png](data:image/png;base64,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)"
      ],
      "metadata": {
        "id": "T5K_LfHL3ans"
      }
    },
    {
      "cell_type": "code",
      "source": [],
      "metadata": {
        "id": "HMXXAphspKgQ"
      },
      "execution_count": 13,
      "outputs": []
    },
    {
      "cell_type": "markdown",
      "source": [
        "## 10.VIF"
      ],
      "metadata": {
        "id": "ZH5Asw_qqZri"
      }
    },
    {
      "cell_type": "markdown",
      "source": [
        "### VIF  (MODULAR)"
      ],
      "metadata": {
        "id": "G1PTQOGEUhtS"
      }
    },
    {
      "cell_type": "code",
      "source": [
        "import statsmodels.formula.api as sm\n",
        "\n",
        "def vif_cal(input_data, dependent_col):\n",
        "    x_vars=input_data.drop([dependent_col], axis=1)\n",
        "    xvar_names=x_vars.columns\n",
        "    for i in range(0,xvar_names.shape[0]):\n",
        "        y=x_vars[xvar_names[i]]\n",
        "        x=x_vars[xvar_names.drop(xvar_names[i])]\n",
        "        rsq=sm.ols(formula=\"y~x\", data=x_vars).fit().rsquared\n",
        "        vif=round(1/(1-rsq),2)\n",
        "        print (xvar_names[i], \" VIF = \" , vif)"
      ],
      "metadata": {
        "id": "nCOYu7EIlFai"
      },
      "execution_count": 14,
      "outputs": []
    },
    {
      "cell_type": "markdown",
      "source": [
        "### VIF variable"
      ],
      "metadata": {
        "id": "f4Mb5sWjUlT3"
      }
    },
    {
      "cell_type": "code",
      "source": [
        "vif_cal(input_data=hr_data, dependent_col=\"Attrition\")"
      ],
      "metadata": {
        "id": "zNWR9JRvlFdF",
        "colab": {
          "base_uri": "https://localhost:8080/"
        },
        "outputId": "691995e3-30ca-4899-ba81-1bc5c256a029"
      },
      "execution_count": 15,
      "outputs": [
        {
          "output_type": "stream",
          "name": "stdout",
          "text": [
            "Age  VIF =  2.08\n",
            "DailyRate  VIF =  1.04\n",
            "DistanceFromHome  VIF =  1.02\n",
            "Education  VIF =  1.09\n",
            "EmployeeCount  VIF =  0.0\n",
            "EmployeeNumber  VIF =  1.04\n",
            "EnvironmentSatisfaction  VIF =  1.03\n",
            "HourlyRate  VIF =  1.03\n",
            "JobInvolvement  VIF =  1.03\n",
            "JobLevel  VIF =  14.16\n",
            "JobSatisfaction  VIF =  1.03\n",
            "MonthlyIncome  VIF = "
          ]
        },
        {
          "output_type": "stream",
          "name": "stderr",
          "text": [
            "/usr/local/lib/python3.10/dist-packages/statsmodels/regression/linear_model.py:1782: RuntimeWarning: divide by zero encountered in scalar divide\n",
            "  return 1 - self.ssr/self.centered_tss\n"
          ]
        },
        {
          "output_type": "stream",
          "name": "stdout",
          "text": [
            " 18.15\n",
            "MonthlyRate  VIF =  1.02\n",
            "NumCompaniesWorked  VIF =  1.28\n",
            "PercentSalaryHike  VIF =  2.56\n",
            "PerformanceRating  VIF =  2.55\n",
            "RelationshipSatisfaction  VIF =  1.03\n",
            "StandardHours  VIF =  0.0\n",
            "StockOptionLevel  VIF =  1.92\n",
            "TotalWorkingYears  VIF =  5.01\n",
            "TrainingTimesLastYear  VIF =  1.04\n",
            "WorkLifeBalance  VIF =  1.03\n"
          ]
        },
        {
          "output_type": "stream",
          "name": "stderr",
          "text": [
            "/usr/local/lib/python3.10/dist-packages/statsmodels/regression/linear_model.py:1782: RuntimeWarning: divide by zero encountered in scalar divide\n",
            "  return 1 - self.ssr/self.centered_tss\n"
          ]
        },
        {
          "output_type": "stream",
          "name": "stdout",
          "text": [
            "YearsAtCompany  VIF =  4.75\n",
            "YearsInCurrentRole  VIF =  2.8\n",
            "YearsSinceLastPromotion  VIF =  1.72\n",
            "YearsWithCurrManager  VIF =  2.85\n",
            "BusinessTravel_Travel_Frequently  VIF =  2.37\n",
            "BusinessTravel_Travel_Rarely  VIF =  2.38\n",
            "Department_Research & Development  VIF =  44.05\n",
            "Department_Sales  VIF =  43.96\n",
            "EducationField_Life Sciences  VIF =  24.12\n",
            "EducationField_Marketing  VIF =  10.9\n",
            "EducationField_Medical  VIF =  21.67\n",
            "EducationField_Other  VIF =  6.05\n",
            "EducationField_Technical Degree  VIF =  8.87\n",
            "Gender_Male  VIF =  1.03\n",
            "JobRole_Human Resources  VIF =  7.26\n",
            "JobRole_Laboratory Technician  VIF =  3.3\n",
            "JobRole_Manager  VIF =  4.23\n",
            "JobRole_Manufacturing Director  VIF =  1.94\n",
            "JobRole_Research Director  VIF =  2.68\n",
            "JobRole_Research Scientist  VIF =  3.54\n",
            "JobRole_Sales Executive  VIF =  14.7\n",
            "JobRole_Sales Representative  VIF =  5.6\n",
            "MaritalStatus_Married  VIF =  1.86\n",
            "MaritalStatus_Single  VIF =  3.05\n",
            "OverTime_Yes  VIF =  1.04\n"
          ]
        }
      ]
    },
    {
      "cell_type": "code",
      "source": [
        "# List of columns to drop\n",
        "columns_to_drop = ['Department_Research & Development', 'Department_Sales', 'EducationField_Life Sciences','MonthlyIncome','JobLevel','EmployeeCount','StandardHours']\n",
        "\n",
        "# Drop multiple columns in one line\n",
        "vif_cal(input_data=hr_data.drop(columns_to_drop, axis=1), dependent_col=\"Attrition\")\n"
      ],
      "metadata": {
        "id": "AC9pI-lnwJJ9",
        "colab": {
          "base_uri": "https://localhost:8080/"
        },
        "outputId": "e3b36c98-b1df-4914-f606-1940f7c86216"
      },
      "execution_count": 16,
      "outputs": [
        {
          "output_type": "stream",
          "name": "stdout",
          "text": [
            "Age  VIF =  2.08\n",
            "DailyRate  VIF =  1.04\n",
            "DistanceFromHome  VIF =  1.02\n",
            "Education  VIF =  1.08\n",
            "EmployeeNumber  VIF =  1.03\n",
            "EnvironmentSatisfaction  VIF =  1.03\n",
            "HourlyRate  VIF =  1.02\n",
            "JobInvolvement  VIF =  1.03\n",
            "JobSatisfaction  VIF =  1.03\n",
            "MonthlyRate  VIF =  1.02\n",
            "NumCompaniesWorked  VIF =  1.28\n",
            "PercentSalaryHike  VIF =  2.56\n",
            "PerformanceRating  VIF =  2.54\n",
            "RelationshipSatisfaction  VIF =  1.03\n",
            "StockOptionLevel  VIF =  1.92\n",
            "TotalWorkingYears  VIF =  3.96\n",
            "TrainingTimesLastYear  VIF =  1.04\n",
            "WorkLifeBalance  VIF =  1.03\n",
            "YearsAtCompany  VIF =  4.69\n",
            "YearsInCurrentRole  VIF =  2.78\n",
            "YearsSinceLastPromotion  VIF =  1.7\n",
            "YearsWithCurrManager  VIF =  2.83\n",
            "BusinessTravel_Travel_Frequently  VIF =  2.36\n",
            "BusinessTravel_Travel_Rarely  VIF =  2.37\n",
            "EducationField_Marketing  VIF =  1.49\n",
            "EducationField_Medical  VIF =  1.22\n",
            "EducationField_Other  VIF =  1.09\n",
            "EducationField_Technical Degree  VIF =  1.12\n",
            "Gender_Male  VIF =  1.03\n",
            "JobRole_Human Resources  VIF =  1.42\n",
            "JobRole_Laboratory Technician  VIF =  2.67\n",
            "JobRole_Manager  VIF =  1.94\n",
            "JobRole_Manufacturing Director  VIF =  1.94\n",
            "JobRole_Research Director  VIF =  1.64\n",
            "JobRole_Research Scientist  VIF =  2.81\n",
            "JobRole_Sales Executive  VIF =  3.15\n",
            "JobRole_Sales Representative  VIF =  1.79\n",
            "MaritalStatus_Married  VIF =  1.86\n",
            "MaritalStatus_Single  VIF =  3.04\n",
            "OverTime_Yes  VIF =  1.03\n"
          ]
        }
      ]
    }
  ]
}