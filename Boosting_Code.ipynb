{
  "nbformat": 4,
  "nbformat_minor": 0,
  "metadata": {
    "colab": {
      "provenance": [],
      "machine_shape": "hm",
      "include_colab_link": true
    },
    "kernelspec": {
      "name": "python3",
      "display_name": "Python 3"
    },
    "accelerator": "GPU"
  },
  "cells": [
    {
      "cell_type": "markdown",
      "metadata": {
        "id": "view-in-github",
        "colab_type": "text"
      },
      "source": [
        "<a href=\"https://colab.research.google.com/github/datagrad/1.ML/blob/main/Boosting_Code.ipynb\" target=\"_parent\"><img src=\"https://colab.research.google.com/assets/colab-badge.svg\" alt=\"Open In Colab\"/></a>"
      ]
    },
    {
      "cell_type": "markdown",
      "metadata": {
        "id": "5Wtphu1LLyVa"
      },
      "source": [
        "# Packages"
      ]
    },
    {
      "cell_type": "code",
      "metadata": {
        "id": "6zgPKfcWFH1L"
      },
      "source": [
        "import pandas as pd\n",
        "import sklearn as sk\n",
        "import numpy as np\n",
        "import scipy as sp\n",
        "from sklearn import tree\n",
        "from sklearn.metrics import confusion_matrix\n",
        "from sklearn.metrics import f1_score\n",
        "import time\n",
        "from sklearn.ensemble import GradientBoostingClassifier\n",
        "import xgboost\n",
        "from xgboost.sklearn import XGBClassifier\n",
        "from sklearn import preprocessing"
      ],
      "execution_count": 1,
      "outputs": []
    },
    {
      "cell_type": "markdown",
      "metadata": {
        "id": "8qLTl5tyD5dc"
      },
      "source": [
        "# Data Importing"
      ]
    },
    {
      "cell_type": "markdown",
      "metadata": {
        "id": "nyO2R9lAEblx"
      },
      "source": [
        "Dataset Background : https://www.kaggle.com/c/otto-group-product-classification-challenge/notebooks"
      ]
    },
    {
      "cell_type": "code",
      "metadata": {
        "id": "RjM68PQ8DkLB"
      },
      "source": [
        "ecom_prod_train=pd.read_csv(\"https://raw.githubusercontent.com/venkatareddykonasani/Datasets/master/Ecom_Products_Menu/train.csv\")\n",
        "ecom_prod_test=pd.read_csv(\"https://raw.githubusercontent.com/venkatareddykonasani/Datasets/master/Ecom_Products_Menu/test.csv\")"
      ],
      "execution_count": 2,
      "outputs": []
    },
    {
      "cell_type": "code",
      "source": [
        "ecom_prod_train"
      ],
      "metadata": {
        "id": "C0dR9m6SkWlO",
        "outputId": "e6db9cc1-dc15-4ab6-e938-24a3c1da2d2a",
        "colab": {
          "base_uri": "https://localhost:8080/",
          "height": 423
        }
      },
      "execution_count": 8,
      "outputs": [
        {
          "output_type": "execute_result",
          "data": {
            "text/plain": [
              "          id  spec1  spec2  spec3  spec4  spec5  spec6  spec7  spec8  spec9  \\\n",
              "0          1      1      0      0      0      0      0      0      0      0   \n",
              "1          2      0      0      0      0      0      0      0      1      0   \n",
              "2          3      0      0      0      0      0      0      0      1      0   \n",
              "3          4      1      0      0      1      6      1      5      0      0   \n",
              "4          5      0      0      0      0      0      0      0      0      0   \n",
              "...      ...    ...    ...    ...    ...    ...    ...    ...    ...    ...   \n",
              "50117  61874      1      0      0      1      1      0      0      0      0   \n",
              "50118  61875      4      0      0      0      0      0      0      0      0   \n",
              "50119  61876      0      0      0      0      0      0      0      3      1   \n",
              "50120  61877      1      0      0      0      0      0      0      0      0   \n",
              "50121  61878      0      0      0      0      0      0      0      0      0   \n",
              "\n",
              "       ...  spec92  spec93  spec94  spec95  spec96  spec97  spec98  spec99  \\\n",
              "0      ...       8       9       0       4       0      12       0       0   \n",
              "1      ...       7       1       0       0       0       1       0       0   \n",
              "2      ...       7       9       0       0       0       9       0       0   \n",
              "3      ...       7      14       0      15       0      21       0       0   \n",
              "4      ...      10       7       0       0       0      12       0       0   \n",
              "...    ...     ...     ...     ...     ...     ...     ...     ...     ...   \n",
              "50117  ...       2       3       0      22       2       5       0       2   \n",
              "50118  ...       2      16       0      -2       0      27       0       1   \n",
              "50119  ...       2      20       0       4       0      20       0       0   \n",
              "50120  ...       3       6       0       2       0       6       3      10   \n",
              "50121  ...      12      10       0      18       0      10       0       2   \n",
              "\n",
              "       spec100  Category  \n",
              "0            0   Mobiles  \n",
              "1            0   Mobiles  \n",
              "2            0   Mobiles  \n",
              "3            0   Mobiles  \n",
              "4            0   Mobiles  \n",
              "...        ...       ...  \n",
              "50117        0    Camara  \n",
              "50118        0    Camara  \n",
              "50119        0    Camara  \n",
              "50120        0    Camara  \n",
              "50121        0    Camara  \n",
              "\n",
              "[50122 rows x 102 columns]"
            ],
            "text/html": [
              "\n",
              "  <div id=\"df-47209b16-ca10-490f-8b23-5a47c0fb76f5\" class=\"colab-df-container\">\n",
              "    <div>\n",
              "<style scoped>\n",
              "    .dataframe tbody tr th:only-of-type {\n",
              "        vertical-align: middle;\n",
              "    }\n",
              "\n",
              "    .dataframe tbody tr th {\n",
              "        vertical-align: top;\n",
              "    }\n",
              "\n",
              "    .dataframe thead th {\n",
              "        text-align: right;\n",
              "    }\n",
              "</style>\n",
              "<table border=\"1\" class=\"dataframe\">\n",
              "  <thead>\n",
              "    <tr style=\"text-align: right;\">\n",
              "      <th></th>\n",
              "      <th>id</th>\n",
              "      <th>spec1</th>\n",
              "      <th>spec2</th>\n",
              "      <th>spec3</th>\n",
              "      <th>spec4</th>\n",
              "      <th>spec5</th>\n",
              "      <th>spec6</th>\n",
              "      <th>spec7</th>\n",
              "      <th>spec8</th>\n",
              "      <th>spec9</th>\n",
              "      <th>...</th>\n",
              "      <th>spec92</th>\n",
              "      <th>spec93</th>\n",
              "      <th>spec94</th>\n",
              "      <th>spec95</th>\n",
              "      <th>spec96</th>\n",
              "      <th>spec97</th>\n",
              "      <th>spec98</th>\n",
              "      <th>spec99</th>\n",
              "      <th>spec100</th>\n",
              "      <th>Category</th>\n",
              "    </tr>\n",
              "  </thead>\n",
              "  <tbody>\n",
              "    <tr>\n",
              "      <th>0</th>\n",
              "      <td>1</td>\n",
              "      <td>1</td>\n",
              "      <td>0</td>\n",
              "      <td>0</td>\n",
              "      <td>0</td>\n",
              "      <td>0</td>\n",
              "      <td>0</td>\n",
              "      <td>0</td>\n",
              "      <td>0</td>\n",
              "      <td>0</td>\n",
              "      <td>...</td>\n",
              "      <td>8</td>\n",
              "      <td>9</td>\n",
              "      <td>0</td>\n",
              "      <td>4</td>\n",
              "      <td>0</td>\n",
              "      <td>12</td>\n",
              "      <td>0</td>\n",
              "      <td>0</td>\n",
              "      <td>0</td>\n",
              "      <td>Mobiles</td>\n",
              "    </tr>\n",
              "    <tr>\n",
              "      <th>1</th>\n",
              "      <td>2</td>\n",
              "      <td>0</td>\n",
              "      <td>0</td>\n",
              "      <td>0</td>\n",
              "      <td>0</td>\n",
              "      <td>0</td>\n",
              "      <td>0</td>\n",
              "      <td>0</td>\n",
              "      <td>1</td>\n",
              "      <td>0</td>\n",
              "      <td>...</td>\n",
              "      <td>7</td>\n",
              "      <td>1</td>\n",
              "      <td>0</td>\n",
              "      <td>0</td>\n",
              "      <td>0</td>\n",
              "      <td>1</td>\n",
              "      <td>0</td>\n",
              "      <td>0</td>\n",
              "      <td>0</td>\n",
              "      <td>Mobiles</td>\n",
              "    </tr>\n",
              "    <tr>\n",
              "      <th>2</th>\n",
              "      <td>3</td>\n",
              "      <td>0</td>\n",
              "      <td>0</td>\n",
              "      <td>0</td>\n",
              "      <td>0</td>\n",
              "      <td>0</td>\n",
              "      <td>0</td>\n",
              "      <td>0</td>\n",
              "      <td>1</td>\n",
              "      <td>0</td>\n",
              "      <td>...</td>\n",
              "      <td>7</td>\n",
              "      <td>9</td>\n",
              "      <td>0</td>\n",
              "      <td>0</td>\n",
              "      <td>0</td>\n",
              "      <td>9</td>\n",
              "      <td>0</td>\n",
              "      <td>0</td>\n",
              "      <td>0</td>\n",
              "      <td>Mobiles</td>\n",
              "    </tr>\n",
              "    <tr>\n",
              "      <th>3</th>\n",
              "      <td>4</td>\n",
              "      <td>1</td>\n",
              "      <td>0</td>\n",
              "      <td>0</td>\n",
              "      <td>1</td>\n",
              "      <td>6</td>\n",
              "      <td>1</td>\n",
              "      <td>5</td>\n",
              "      <td>0</td>\n",
              "      <td>0</td>\n",
              "      <td>...</td>\n",
              "      <td>7</td>\n",
              "      <td>14</td>\n",
              "      <td>0</td>\n",
              "      <td>15</td>\n",
              "      <td>0</td>\n",
              "      <td>21</td>\n",
              "      <td>0</td>\n",
              "      <td>0</td>\n",
              "      <td>0</td>\n",
              "      <td>Mobiles</td>\n",
              "    </tr>\n",
              "    <tr>\n",
              "      <th>4</th>\n",
              "      <td>5</td>\n",
              "      <td>0</td>\n",
              "      <td>0</td>\n",
              "      <td>0</td>\n",
              "      <td>0</td>\n",
              "      <td>0</td>\n",
              "      <td>0</td>\n",
              "      <td>0</td>\n",
              "      <td>0</td>\n",
              "      <td>0</td>\n",
              "      <td>...</td>\n",
              "      <td>10</td>\n",
              "      <td>7</td>\n",
              "      <td>0</td>\n",
              "      <td>0</td>\n",
              "      <td>0</td>\n",
              "      <td>12</td>\n",
              "      <td>0</td>\n",
              "      <td>0</td>\n",
              "      <td>0</td>\n",
              "      <td>Mobiles</td>\n",
              "    </tr>\n",
              "    <tr>\n",
              "      <th>...</th>\n",
              "      <td>...</td>\n",
              "      <td>...</td>\n",
              "      <td>...</td>\n",
              "      <td>...</td>\n",
              "      <td>...</td>\n",
              "      <td>...</td>\n",
              "      <td>...</td>\n",
              "      <td>...</td>\n",
              "      <td>...</td>\n",
              "      <td>...</td>\n",
              "      <td>...</td>\n",
              "      <td>...</td>\n",
              "      <td>...</td>\n",
              "      <td>...</td>\n",
              "      <td>...</td>\n",
              "      <td>...</td>\n",
              "      <td>...</td>\n",
              "      <td>...</td>\n",
              "      <td>...</td>\n",
              "      <td>...</td>\n",
              "      <td>...</td>\n",
              "    </tr>\n",
              "    <tr>\n",
              "      <th>50117</th>\n",
              "      <td>61874</td>\n",
              "      <td>1</td>\n",
              "      <td>0</td>\n",
              "      <td>0</td>\n",
              "      <td>1</td>\n",
              "      <td>1</td>\n",
              "      <td>0</td>\n",
              "      <td>0</td>\n",
              "      <td>0</td>\n",
              "      <td>0</td>\n",
              "      <td>...</td>\n",
              "      <td>2</td>\n",
              "      <td>3</td>\n",
              "      <td>0</td>\n",
              "      <td>22</td>\n",
              "      <td>2</td>\n",
              "      <td>5</td>\n",
              "      <td>0</td>\n",
              "      <td>2</td>\n",
              "      <td>0</td>\n",
              "      <td>Camara</td>\n",
              "    </tr>\n",
              "    <tr>\n",
              "      <th>50118</th>\n",
              "      <td>61875</td>\n",
              "      <td>4</td>\n",
              "      <td>0</td>\n",
              "      <td>0</td>\n",
              "      <td>0</td>\n",
              "      <td>0</td>\n",
              "      <td>0</td>\n",
              "      <td>0</td>\n",
              "      <td>0</td>\n",
              "      <td>0</td>\n",
              "      <td>...</td>\n",
              "      <td>2</td>\n",
              "      <td>16</td>\n",
              "      <td>0</td>\n",
              "      <td>-2</td>\n",
              "      <td>0</td>\n",
              "      <td>27</td>\n",
              "      <td>0</td>\n",
              "      <td>1</td>\n",
              "      <td>0</td>\n",
              "      <td>Camara</td>\n",
              "    </tr>\n",
              "    <tr>\n",
              "      <th>50119</th>\n",
              "      <td>61876</td>\n",
              "      <td>0</td>\n",
              "      <td>0</td>\n",
              "      <td>0</td>\n",
              "      <td>0</td>\n",
              "      <td>0</td>\n",
              "      <td>0</td>\n",
              "      <td>0</td>\n",
              "      <td>3</td>\n",
              "      <td>1</td>\n",
              "      <td>...</td>\n",
              "      <td>2</td>\n",
              "      <td>20</td>\n",
              "      <td>0</td>\n",
              "      <td>4</td>\n",
              "      <td>0</td>\n",
              "      <td>20</td>\n",
              "      <td>0</td>\n",
              "      <td>0</td>\n",
              "      <td>0</td>\n",
              "      <td>Camara</td>\n",
              "    </tr>\n",
              "    <tr>\n",
              "      <th>50120</th>\n",
              "      <td>61877</td>\n",
              "      <td>1</td>\n",
              "      <td>0</td>\n",
              "      <td>0</td>\n",
              "      <td>0</td>\n",
              "      <td>0</td>\n",
              "      <td>0</td>\n",
              "      <td>0</td>\n",
              "      <td>0</td>\n",
              "      <td>0</td>\n",
              "      <td>...</td>\n",
              "      <td>3</td>\n",
              "      <td>6</td>\n",
              "      <td>0</td>\n",
              "      <td>2</td>\n",
              "      <td>0</td>\n",
              "      <td>6</td>\n",
              "      <td>3</td>\n",
              "      <td>10</td>\n",
              "      <td>0</td>\n",
              "      <td>Camara</td>\n",
              "    </tr>\n",
              "    <tr>\n",
              "      <th>50121</th>\n",
              "      <td>61878</td>\n",
              "      <td>0</td>\n",
              "      <td>0</td>\n",
              "      <td>0</td>\n",
              "      <td>0</td>\n",
              "      <td>0</td>\n",
              "      <td>0</td>\n",
              "      <td>0</td>\n",
              "      <td>0</td>\n",
              "      <td>0</td>\n",
              "      <td>...</td>\n",
              "      <td>12</td>\n",
              "      <td>10</td>\n",
              "      <td>0</td>\n",
              "      <td>18</td>\n",
              "      <td>0</td>\n",
              "      <td>10</td>\n",
              "      <td>0</td>\n",
              "      <td>2</td>\n",
              "      <td>0</td>\n",
              "      <td>Camara</td>\n",
              "    </tr>\n",
              "  </tbody>\n",
              "</table>\n",
              "<p>50122 rows × 102 columns</p>\n",
              "</div>\n",
              "    <div class=\"colab-df-buttons\">\n",
              "\n",
              "  <div class=\"colab-df-container\">\n",
              "    <button class=\"colab-df-convert\" onclick=\"convertToInteractive('df-47209b16-ca10-490f-8b23-5a47c0fb76f5')\"\n",
              "            title=\"Convert this dataframe to an interactive table.\"\n",
              "            style=\"display:none;\">\n",
              "\n",
              "  <svg xmlns=\"http://www.w3.org/2000/svg\" height=\"24px\" viewBox=\"0 -960 960 960\">\n",
              "    <path d=\"M120-120v-720h720v720H120Zm60-500h600v-160H180v160Zm220 220h160v-160H400v160Zm0 220h160v-160H400v160ZM180-400h160v-160H180v160Zm440 0h160v-160H620v160ZM180-180h160v-160H180v160Zm440 0h160v-160H620v160Z\"/>\n",
              "  </svg>\n",
              "    </button>\n",
              "\n",
              "  <style>\n",
              "    .colab-df-container {\n",
              "      display:flex;\n",
              "      gap: 12px;\n",
              "    }\n",
              "\n",
              "    .colab-df-convert {\n",
              "      background-color: #E8F0FE;\n",
              "      border: none;\n",
              "      border-radius: 50%;\n",
              "      cursor: pointer;\n",
              "      display: none;\n",
              "      fill: #1967D2;\n",
              "      height: 32px;\n",
              "      padding: 0 0 0 0;\n",
              "      width: 32px;\n",
              "    }\n",
              "\n",
              "    .colab-df-convert:hover {\n",
              "      background-color: #E2EBFA;\n",
              "      box-shadow: 0px 1px 2px rgba(60, 64, 67, 0.3), 0px 1px 3px 1px rgba(60, 64, 67, 0.15);\n",
              "      fill: #174EA6;\n",
              "    }\n",
              "\n",
              "    .colab-df-buttons div {\n",
              "      margin-bottom: 4px;\n",
              "    }\n",
              "\n",
              "    [theme=dark] .colab-df-convert {\n",
              "      background-color: #3B4455;\n",
              "      fill: #D2E3FC;\n",
              "    }\n",
              "\n",
              "    [theme=dark] .colab-df-convert:hover {\n",
              "      background-color: #434B5C;\n",
              "      box-shadow: 0px 1px 3px 1px rgba(0, 0, 0, 0.15);\n",
              "      filter: drop-shadow(0px 1px 2px rgba(0, 0, 0, 0.3));\n",
              "      fill: #FFFFFF;\n",
              "    }\n",
              "  </style>\n",
              "\n",
              "    <script>\n",
              "      const buttonEl =\n",
              "        document.querySelector('#df-47209b16-ca10-490f-8b23-5a47c0fb76f5 button.colab-df-convert');\n",
              "      buttonEl.style.display =\n",
              "        google.colab.kernel.accessAllowed ? 'block' : 'none';\n",
              "\n",
              "      async function convertToInteractive(key) {\n",
              "        const element = document.querySelector('#df-47209b16-ca10-490f-8b23-5a47c0fb76f5');\n",
              "        const dataTable =\n",
              "          await google.colab.kernel.invokeFunction('convertToInteractive',\n",
              "                                                    [key], {});\n",
              "        if (!dataTable) return;\n",
              "\n",
              "        const docLinkHtml = 'Like what you see? Visit the ' +\n",
              "          '<a target=\"_blank\" href=https://colab.research.google.com/notebooks/data_table.ipynb>data table notebook</a>'\n",
              "          + ' to learn more about interactive tables.';\n",
              "        element.innerHTML = '';\n",
              "        dataTable['output_type'] = 'display_data';\n",
              "        await google.colab.output.renderOutput(dataTable, element);\n",
              "        const docLink = document.createElement('div');\n",
              "        docLink.innerHTML = docLinkHtml;\n",
              "        element.appendChild(docLink);\n",
              "      }\n",
              "    </script>\n",
              "  </div>\n",
              "\n",
              "\n",
              "<div id=\"df-6e0b883d-dbbd-4834-acc9-3e51ca97a05b\">\n",
              "  <button class=\"colab-df-quickchart\" onclick=\"quickchart('df-6e0b883d-dbbd-4834-acc9-3e51ca97a05b')\"\n",
              "            title=\"Suggest charts\"\n",
              "            style=\"display:none;\">\n",
              "\n",
              "<svg xmlns=\"http://www.w3.org/2000/svg\" height=\"24px\"viewBox=\"0 0 24 24\"\n",
              "     width=\"24px\">\n",
              "    <g>\n",
              "        <path d=\"M19 3H5c-1.1 0-2 .9-2 2v14c0 1.1.9 2 2 2h14c1.1 0 2-.9 2-2V5c0-1.1-.9-2-2-2zM9 17H7v-7h2v7zm4 0h-2V7h2v10zm4 0h-2v-4h2v4z\"/>\n",
              "    </g>\n",
              "</svg>\n",
              "  </button>\n",
              "\n",
              "<style>\n",
              "  .colab-df-quickchart {\n",
              "      --bg-color: #E8F0FE;\n",
              "      --fill-color: #1967D2;\n",
              "      --hover-bg-color: #E2EBFA;\n",
              "      --hover-fill-color: #174EA6;\n",
              "      --disabled-fill-color: #AAA;\n",
              "      --disabled-bg-color: #DDD;\n",
              "  }\n",
              "\n",
              "  [theme=dark] .colab-df-quickchart {\n",
              "      --bg-color: #3B4455;\n",
              "      --fill-color: #D2E3FC;\n",
              "      --hover-bg-color: #434B5C;\n",
              "      --hover-fill-color: #FFFFFF;\n",
              "      --disabled-bg-color: #3B4455;\n",
              "      --disabled-fill-color: #666;\n",
              "  }\n",
              "\n",
              "  .colab-df-quickchart {\n",
              "    background-color: var(--bg-color);\n",
              "    border: none;\n",
              "    border-radius: 50%;\n",
              "    cursor: pointer;\n",
              "    display: none;\n",
              "    fill: var(--fill-color);\n",
              "    height: 32px;\n",
              "    padding: 0;\n",
              "    width: 32px;\n",
              "  }\n",
              "\n",
              "  .colab-df-quickchart:hover {\n",
              "    background-color: var(--hover-bg-color);\n",
              "    box-shadow: 0 1px 2px rgba(60, 64, 67, 0.3), 0 1px 3px 1px rgba(60, 64, 67, 0.15);\n",
              "    fill: var(--button-hover-fill-color);\n",
              "  }\n",
              "\n",
              "  .colab-df-quickchart-complete:disabled,\n",
              "  .colab-df-quickchart-complete:disabled:hover {\n",
              "    background-color: var(--disabled-bg-color);\n",
              "    fill: var(--disabled-fill-color);\n",
              "    box-shadow: none;\n",
              "  }\n",
              "\n",
              "  .colab-df-spinner {\n",
              "    border: 2px solid var(--fill-color);\n",
              "    border-color: transparent;\n",
              "    border-bottom-color: var(--fill-color);\n",
              "    animation:\n",
              "      spin 1s steps(1) infinite;\n",
              "  }\n",
              "\n",
              "  @keyframes spin {\n",
              "    0% {\n",
              "      border-color: transparent;\n",
              "      border-bottom-color: var(--fill-color);\n",
              "      border-left-color: var(--fill-color);\n",
              "    }\n",
              "    20% {\n",
              "      border-color: transparent;\n",
              "      border-left-color: var(--fill-color);\n",
              "      border-top-color: var(--fill-color);\n",
              "    }\n",
              "    30% {\n",
              "      border-color: transparent;\n",
              "      border-left-color: var(--fill-color);\n",
              "      border-top-color: var(--fill-color);\n",
              "      border-right-color: var(--fill-color);\n",
              "    }\n",
              "    40% {\n",
              "      border-color: transparent;\n",
              "      border-right-color: var(--fill-color);\n",
              "      border-top-color: var(--fill-color);\n",
              "    }\n",
              "    60% {\n",
              "      border-color: transparent;\n",
              "      border-right-color: var(--fill-color);\n",
              "    }\n",
              "    80% {\n",
              "      border-color: transparent;\n",
              "      border-right-color: var(--fill-color);\n",
              "      border-bottom-color: var(--fill-color);\n",
              "    }\n",
              "    90% {\n",
              "      border-color: transparent;\n",
              "      border-bottom-color: var(--fill-color);\n",
              "    }\n",
              "  }\n",
              "</style>\n",
              "\n",
              "  <script>\n",
              "    async function quickchart(key) {\n",
              "      const quickchartButtonEl =\n",
              "        document.querySelector('#' + key + ' button');\n",
              "      quickchartButtonEl.disabled = true;  // To prevent multiple clicks.\n",
              "      quickchartButtonEl.classList.add('colab-df-spinner');\n",
              "      try {\n",
              "        const charts = await google.colab.kernel.invokeFunction(\n",
              "            'suggestCharts', [key], {});\n",
              "      } catch (error) {\n",
              "        console.error('Error during call to suggestCharts:', error);\n",
              "      }\n",
              "      quickchartButtonEl.classList.remove('colab-df-spinner');\n",
              "      quickchartButtonEl.classList.add('colab-df-quickchart-complete');\n",
              "    }\n",
              "    (() => {\n",
              "      let quickchartButtonEl =\n",
              "        document.querySelector('#df-6e0b883d-dbbd-4834-acc9-3e51ca97a05b button');\n",
              "      quickchartButtonEl.style.display =\n",
              "        google.colab.kernel.accessAllowed ? 'block' : 'none';\n",
              "    })();\n",
              "  </script>\n",
              "</div>\n",
              "\n",
              "  <div id=\"id_7410933e-fb9a-49df-94cf-17eafb4b0c1e\">\n",
              "    <style>\n",
              "      .colab-df-generate {\n",
              "        background-color: #E8F0FE;\n",
              "        border: none;\n",
              "        border-radius: 50%;\n",
              "        cursor: pointer;\n",
              "        display: none;\n",
              "        fill: #1967D2;\n",
              "        height: 32px;\n",
              "        padding: 0 0 0 0;\n",
              "        width: 32px;\n",
              "      }\n",
              "\n",
              "      .colab-df-generate:hover {\n",
              "        background-color: #E2EBFA;\n",
              "        box-shadow: 0px 1px 2px rgba(60, 64, 67, 0.3), 0px 1px 3px 1px rgba(60, 64, 67, 0.15);\n",
              "        fill: #174EA6;\n",
              "      }\n",
              "\n",
              "      [theme=dark] .colab-df-generate {\n",
              "        background-color: #3B4455;\n",
              "        fill: #D2E3FC;\n",
              "      }\n",
              "\n",
              "      [theme=dark] .colab-df-generate:hover {\n",
              "        background-color: #434B5C;\n",
              "        box-shadow: 0px 1px 3px 1px rgba(0, 0, 0, 0.15);\n",
              "        filter: drop-shadow(0px 1px 2px rgba(0, 0, 0, 0.3));\n",
              "        fill: #FFFFFF;\n",
              "      }\n",
              "    </style>\n",
              "    <button class=\"colab-df-generate\" onclick=\"generateWithVariable('ecom_prod_train')\"\n",
              "            title=\"Generate code using this dataframe.\"\n",
              "            style=\"display:none;\">\n",
              "\n",
              "  <svg xmlns=\"http://www.w3.org/2000/svg\" height=\"24px\"viewBox=\"0 0 24 24\"\n",
              "       width=\"24px\">\n",
              "    <path d=\"M7,19H8.4L18.45,9,17,7.55,7,17.6ZM5,21V16.75L18.45,3.32a2,2,0,0,1,2.83,0l1.4,1.43a1.91,1.91,0,0,1,.58,1.4,1.91,1.91,0,0,1-.58,1.4L9.25,21ZM18.45,9,17,7.55Zm-12,3A5.31,5.31,0,0,0,4.9,8.1,5.31,5.31,0,0,0,1,6.5,5.31,5.31,0,0,0,4.9,4.9,5.31,5.31,0,0,0,6.5,1,5.31,5.31,0,0,0,8.1,4.9,5.31,5.31,0,0,0,12,6.5,5.46,5.46,0,0,0,6.5,12Z\"/>\n",
              "  </svg>\n",
              "    </button>\n",
              "    <script>\n",
              "      (() => {\n",
              "      const buttonEl =\n",
              "        document.querySelector('#id_7410933e-fb9a-49df-94cf-17eafb4b0c1e button.colab-df-generate');\n",
              "      buttonEl.style.display =\n",
              "        google.colab.kernel.accessAllowed ? 'block' : 'none';\n",
              "\n",
              "      buttonEl.onclick = () => {\n",
              "        google.colab.notebook.generateWithVariable('ecom_prod_train');\n",
              "      }\n",
              "      })();\n",
              "    </script>\n",
              "  </div>\n",
              "\n",
              "    </div>\n",
              "  </div>\n"
            ],
            "application/vnd.google.colaboratory.intrinsic+json": {
              "type": "dataframe",
              "variable_name": "ecom_prod_train"
            }
          },
          "metadata": {},
          "execution_count": 8
        }
      ]
    },
    {
      "cell_type": "code",
      "source": [],
      "metadata": {
        "id": "2RkoOKmOkXIn"
      },
      "execution_count": null,
      "outputs": []
    },
    {
      "cell_type": "code",
      "metadata": {
        "id": "E1jc0eX_FA8Q",
        "outputId": "62121ad4-ad25-4048-d35f-b3274bd96099",
        "colab": {
          "base_uri": "https://localhost:8080/"
        }
      },
      "source": [
        "print(ecom_prod_train.sample(10))\n",
        "print(ecom_prod_test.sample(10))"
      ],
      "execution_count": 3,
      "outputs": [
        {
          "output_type": "stream",
          "name": "stdout",
          "text": [
            "          id  spec1  spec2  spec3  spec4  spec5  spec6  spec7  spec8  spec9  \\\n",
            "26852  33138      0      0      0      0      0      0      0      0      0   \n",
            "9619   11846      0      0      0      0      0      0      0      0      0   \n",
            "37025  45709      0      0      0      0      0      0      0      1      0   \n",
            "10408  12858      0      0      0      0      0      0      0      0      0   \n",
            "39994  49320      0      0      0      0      0      0      1      7      0   \n",
            "21260  26233      0      0      1      0      0      0      1      0      0   \n",
            "18661  23031      0      0      0      0      0      0      0      0      0   \n",
            "43797  54009      1      2      0      0      0      0      2      0      0   \n",
            "24041  29710      0      0      0      0      0      0      0      0      0   \n",
            "13333  16456      0      0      1      0      0      0      0      2      0   \n",
            "\n",
            "       ...  spec92  spec93  spec94  spec95  spec96  spec97  spec98  spec99  \\\n",
            "26852  ...       9       8       0      -2       0      15       1       0   \n",
            "9619   ...       7       3       0       0       0       3       0       0   \n",
            "37025  ...       1       7       0       6       0       9       0       0   \n",
            "10408  ...      15       2       0      19       0       3       0       0   \n",
            "39994  ...      10       0       0       0       1       0       1       0   \n",
            "21260  ...      14       1       0      10       0      12       0       1   \n",
            "18661  ...      11       2       0       2       0       2       0       0   \n",
            "43797  ...       9       9       0      12       0       9       0       0   \n",
            "24041  ...       9       1       0       2       0       1       0       0   \n",
            "13333  ...      12       1       0       0       0       1       0       0   \n",
            "\n",
            "       spec100       Category  \n",
            "26852        1  Personal_Care  \n",
            "9619         0        Tablets  \n",
            "37025        0    Accessories  \n",
            "10408        0        Tablets  \n",
            "39994        0     Appliances  \n",
            "21260        0             TV  \n",
            "18661        0        Laptops  \n",
            "43797        0     Appliances  \n",
            "24041        0           Ipod  \n",
            "13333        0        Tablets  \n",
            "\n",
            "[10 rows x 102 columns]\n",
            "          id  spec1  spec2  spec3  spec4  spec5  spec6  spec7  spec8  spec9  \\\n",
            "11432  60326      0      0      0      0      0      0      0      1      0   \n",
            "634     3339      0      0      0      0      0      0      0      0      0   \n",
            "7210   38001      0      0      0      0      0      0      0      0      0   \n",
            "2228   11854      1      0      0      0      0      0      0      0      0   \n",
            "3540   18693      0      0      0      0      0      0      0      0      0   \n",
            "3812   20146      0      0      0      0      0      0      0      0     14   \n",
            "8474   44752      0      0      2      2      0      0      0      0      0   \n",
            "8106   42698      0      0     12      2      0      0      0      0      2   \n",
            "328     1705      0      0      1      0      0      0      0      0      0   \n",
            "6882   36254      1      0      0      1      0      0      2      0      0   \n",
            "\n",
            "       ...  spec92  spec93  spec94  spec95  spec96  spec97  spec98  spec99  \\\n",
            "11432  ...       7      16       0       0       0      16       0       0   \n",
            "634    ...       6       0       0       0       0       0       0       0   \n",
            "7210   ...       5       6       0       1       0       6       1       0   \n",
            "2228   ...       6       0       0       8       0       0       0       0   \n",
            "3540   ...      11       2       0       2       0       4       0       0   \n",
            "3812   ...       5      18       0       0       0      18       0       0   \n",
            "8474   ...       5       0       0      32       0       0       0       1   \n",
            "8106   ...       1       6       3      90       0       6       0       1   \n",
            "328    ...       2       8       0       1       0       8       0       0   \n",
            "6882   ...       7      20       0      18       0      21       0       0   \n",
            "\n",
            "       spec100       Category  \n",
            "11432        0         Camara  \n",
            "634          0        Tablets  \n",
            "7210         0  Personal_Care  \n",
            "2228         0        Tablets  \n",
            "3540         0        Laptops  \n",
            "3812         0        Laptops  \n",
            "8474         0  Personal_Care  \n",
            "8106         1  Personal_Care  \n",
            "328          0        Mobiles  \n",
            "6882         0  Personal_Care  \n",
            "\n",
            "[10 rows x 102 columns]\n"
          ]
        }
      ]
    },
    {
      "cell_type": "code",
      "metadata": {
        "id": "Wj2NV6efGTcC",
        "outputId": "fe34f874-04ec-48fd-825e-3546a179b3bf",
        "colab": {
          "base_uri": "https://localhost:8080/"
        }
      },
      "source": [
        "#Frequency counts of the products\n",
        "ecom_prod_train['Category'].value_counts()"
      ],
      "execution_count": 4,
      "outputs": [
        {
          "output_type": "execute_result",
          "data": {
            "text/plain": [
              "Tablets          13079\n",
              "Personal_Care    11452\n",
              "Appliances        6863\n",
              "Laptops           6466\n",
              "Camara            3964\n",
              "Accessories       2341\n",
              "Ipod              2217\n",
              "TV                2182\n",
              "Mobiles           1558\n",
              "Name: Category, dtype: int64"
            ]
          },
          "metadata": {},
          "execution_count": 4
        }
      ]
    },
    {
      "cell_type": "markdown",
      "metadata": {
        "id": "0SW5fKjLGCfo"
      },
      "source": [
        "# Prepare Features, Train and Test data"
      ]
    },
    {
      "cell_type": "code",
      "metadata": {
        "id": "A-V7YGhrFqfZ",
        "outputId": "f6c262e6-68f1-4386-b817-8f44230aa703",
        "colab": {
          "base_uri": "https://localhost:8080/"
        }
      },
      "source": [
        "features=list(ecom_prod_train.columns[1:101])\n",
        "print(\"features \\n\", features)\n",
        "X_train=ecom_prod_train[features]\n",
        "y_train=ecom_prod_train['Category']\n",
        "\n",
        "X_test=ecom_prod_test[features]\n",
        "y_test=ecom_prod_test['Category']"
      ],
      "execution_count": 5,
      "outputs": [
        {
          "output_type": "stream",
          "name": "stdout",
          "text": [
            "features \n",
            " ['spec1', 'spec2', 'spec3', 'spec4', 'spec5', 'spec6', 'spec7', 'spec8', 'spec9', 'spec10', 'spec11', 'spec12', 'spec13', 'spec14', 'spec15', 'spec16', 'spec17', 'spec18', 'spec19', 'spec20', 'spec21', 'spec22', 'spec23', 'spec24', 'spec25', 'spec26', 'spec27', 'spec28', 'spec29', 'spec30', 'spec31', 'spec32', 'spec33', 'spec34', 'spec35', 'spec36', 'spec37', 'spec38', 'spec39', 'spec40', 'spec41', 'spec42', 'spec43', 'spec44', 'spec45', 'spec46', 'spec47', 'spec48', 'spec49', 'spec50', 'spec51', 'spec52', 'spec53', 'spec54', 'spec55', 'spec56', 'spec57', 'spec58', 'spec59', 'spec60', 'spec61', 'spec62', 'spec63', 'spec64', 'spec65', 'spec66', 'spec67', 'spec68', 'spec69', 'spec70', 'spec71', 'spec72', 'spec73', 'spec74', 'spec75', 'spec76', 'spec77', 'spec78', 'spec79', 'spec80', 'spec81', 'spec82', 'spec83', 'spec84', 'spec85', 'spec86', 'spec87', 'spec88', 'spec89', 'spec90', 'spec91', 'spec92', 'spec93', 'spec94', 'spec95', 'spec96', 'spec97', 'spec98', 'spec99', 'spec100']\n"
          ]
        }
      ]
    },
    {
      "cell_type": "markdown",
      "metadata": {
        "id": "12BIlI7gHctK"
      },
      "source": [
        "# Decision Tree model"
      ]
    },
    {
      "cell_type": "code",
      "metadata": {
        "id": "9pjj7RppGKqr",
        "outputId": "f8beebf2-53f2-4ed0-ff7f-1d98a0fd46cc",
        "colab": {
          "base_uri": "https://localhost:8080/",
          "height": 74
        }
      },
      "source": [
        "###buildng Decision tree on the training data ####\n",
        "from sklearn import tree\n",
        "tree = tree.DecisionTreeClassifier(max_depth=9)\n",
        "tree.fit(X_train,y_train)"
      ],
      "execution_count": 6,
      "outputs": [
        {
          "output_type": "execute_result",
          "data": {
            "text/plain": [
              "DecisionTreeClassifier(max_depth=9)"
            ],
            "text/html": [
              "<style>#sk-container-id-1 {color: black;background-color: white;}#sk-container-id-1 pre{padding: 0;}#sk-container-id-1 div.sk-toggleable {background-color: white;}#sk-container-id-1 label.sk-toggleable__label {cursor: pointer;display: block;width: 100%;margin-bottom: 0;padding: 0.3em;box-sizing: border-box;text-align: center;}#sk-container-id-1 label.sk-toggleable__label-arrow:before {content: \"▸\";float: left;margin-right: 0.25em;color: #696969;}#sk-container-id-1 label.sk-toggleable__label-arrow:hover:before {color: black;}#sk-container-id-1 div.sk-estimator:hover label.sk-toggleable__label-arrow:before {color: black;}#sk-container-id-1 div.sk-toggleable__content {max-height: 0;max-width: 0;overflow: hidden;text-align: left;background-color: #f0f8ff;}#sk-container-id-1 div.sk-toggleable__content pre {margin: 0.2em;color: black;border-radius: 0.25em;background-color: #f0f8ff;}#sk-container-id-1 input.sk-toggleable__control:checked~div.sk-toggleable__content {max-height: 200px;max-width: 100%;overflow: auto;}#sk-container-id-1 input.sk-toggleable__control:checked~label.sk-toggleable__label-arrow:before {content: \"▾\";}#sk-container-id-1 div.sk-estimator input.sk-toggleable__control:checked~label.sk-toggleable__label {background-color: #d4ebff;}#sk-container-id-1 div.sk-label input.sk-toggleable__control:checked~label.sk-toggleable__label {background-color: #d4ebff;}#sk-container-id-1 input.sk-hidden--visually {border: 0;clip: rect(1px 1px 1px 1px);clip: rect(1px, 1px, 1px, 1px);height: 1px;margin: -1px;overflow: hidden;padding: 0;position: absolute;width: 1px;}#sk-container-id-1 div.sk-estimator {font-family: monospace;background-color: #f0f8ff;border: 1px dotted black;border-radius: 0.25em;box-sizing: border-box;margin-bottom: 0.5em;}#sk-container-id-1 div.sk-estimator:hover {background-color: #d4ebff;}#sk-container-id-1 div.sk-parallel-item::after {content: \"\";width: 100%;border-bottom: 1px solid gray;flex-grow: 1;}#sk-container-id-1 div.sk-label:hover label.sk-toggleable__label {background-color: #d4ebff;}#sk-container-id-1 div.sk-serial::before {content: \"\";position: absolute;border-left: 1px solid gray;box-sizing: border-box;top: 0;bottom: 0;left: 50%;z-index: 0;}#sk-container-id-1 div.sk-serial {display: flex;flex-direction: column;align-items: center;background-color: white;padding-right: 0.2em;padding-left: 0.2em;position: relative;}#sk-container-id-1 div.sk-item {position: relative;z-index: 1;}#sk-container-id-1 div.sk-parallel {display: flex;align-items: stretch;justify-content: center;background-color: white;position: relative;}#sk-container-id-1 div.sk-item::before, #sk-container-id-1 div.sk-parallel-item::before {content: \"\";position: absolute;border-left: 1px solid gray;box-sizing: border-box;top: 0;bottom: 0;left: 50%;z-index: -1;}#sk-container-id-1 div.sk-parallel-item {display: flex;flex-direction: column;z-index: 1;position: relative;background-color: white;}#sk-container-id-1 div.sk-parallel-item:first-child::after {align-self: flex-end;width: 50%;}#sk-container-id-1 div.sk-parallel-item:last-child::after {align-self: flex-start;width: 50%;}#sk-container-id-1 div.sk-parallel-item:only-child::after {width: 0;}#sk-container-id-1 div.sk-dashed-wrapped {border: 1px dashed gray;margin: 0 0.4em 0.5em 0.4em;box-sizing: border-box;padding-bottom: 0.4em;background-color: white;}#sk-container-id-1 div.sk-label label {font-family: monospace;font-weight: bold;display: inline-block;line-height: 1.2em;}#sk-container-id-1 div.sk-label-container {text-align: center;}#sk-container-id-1 div.sk-container {/* jupyter's `normalize.less` sets `[hidden] { display: none; }` but bootstrap.min.css set `[hidden] { display: none !important; }` so we also need the `!important` here to be able to override the default hidden behavior on the sphinx rendered scikit-learn.org. See: https://github.com/scikit-learn/scikit-learn/issues/21755 */display: inline-block !important;position: relative;}#sk-container-id-1 div.sk-text-repr-fallback {display: none;}</style><div id=\"sk-container-id-1\" class=\"sk-top-container\"><div class=\"sk-text-repr-fallback\"><pre>DecisionTreeClassifier(max_depth=9)</pre><b>In a Jupyter environment, please rerun this cell to show the HTML representation or trust the notebook. <br />On GitHub, the HTML representation is unable to render, please try loading this page with nbviewer.org.</b></div><div class=\"sk-container\" hidden><div class=\"sk-item\"><div class=\"sk-estimator sk-toggleable\"><input class=\"sk-toggleable__control sk-hidden--visually\" id=\"sk-estimator-id-1\" type=\"checkbox\" checked><label for=\"sk-estimator-id-1\" class=\"sk-toggleable__label sk-toggleable__label-arrow\">DecisionTreeClassifier</label><div class=\"sk-toggleable__content\"><pre>DecisionTreeClassifier(max_depth=9)</pre></div></div></div></div></div>"
            ]
          },
          "metadata": {},
          "execution_count": 6
        }
      ]
    },
    {
      "cell_type": "markdown",
      "metadata": {
        "id": "YSOShFnhXyfO"
      },
      "source": [
        "## Decision Tree Results"
      ]
    },
    {
      "cell_type": "code",
      "metadata": {
        "id": "Sj-71axBXxab",
        "outputId": "193b9c71-6dc1-4d36-c8f1-0f0ec4aab2c6",
        "colab": {
          "base_uri": "https://localhost:8080/"
        }
      },
      "source": [
        "#Accuracy on train data\n",
        "print(\"Decision Tree Results \\n\")\n",
        "print(\"Accuracy on train data\" , tree.score(X_train, y_train))\n",
        "print(\"Accuracy on test data\" , tree.score(X_test, y_test))"
      ],
      "execution_count": 7,
      "outputs": [
        {
          "output_type": "stream",
          "name": "stdout",
          "text": [
            "Decision Tree Results \n",
            "\n",
            "Accuracy on train data 0.6363672638761422\n",
            "Accuracy on test data 0.6266587274583192\n"
          ]
        }
      ]
    },
    {
      "cell_type": "markdown",
      "metadata": {
        "id": "aD6wVUHSHevX"
      },
      "source": [
        "# Boosted Model"
      ]
    },
    {
      "cell_type": "code",
      "metadata": {
        "id": "CFdhv8k2GjsG",
        "outputId": "9021f102-da02-4989-a1f1-83b4fb94e57b",
        "colab": {
          "base_uri": "https://localhost:8080/"
        }
      },
      "source": [
        "from sklearn.ensemble import GradientBoostingClassifier\n",
        "boost=GradientBoostingClassifier(n_estimators=100,learning_rate=0.1, verbose=1)\n",
        "##fitting the gradient boost classifier\n",
        "start_time = time.time()\n",
        "boost.fit(X_train,y_train)\n",
        "print(\"Time taken by GBM \"+ str((time.time() - start_time))+ \" Seconds\")"
      ],
      "execution_count": 9,
      "outputs": [
        {
          "output_type": "stream",
          "name": "stdout",
          "text": [
            "      Iter       Train Loss   Remaining Time \n",
            "         1           1.6679            2.58m\n",
            "         2           1.5254            2.57m\n",
            "         3           1.4205            2.55m\n",
            "         4           1.3357            2.55m\n",
            "         5           1.2661            2.52m\n",
            "         6           1.2069            2.63m\n",
            "         7           1.1570            2.61m\n",
            "         8           1.1147            2.56m\n",
            "         9           1.0746            2.52m\n",
            "        10           1.0392            2.48m\n",
            "        20           0.8356            2.22m\n",
            "        30           0.7398            1.96m\n",
            "        40           0.6852            1.67m\n",
            "        50           0.6487            1.40m\n",
            "        60           0.6220            1.12m\n",
            "        70           0.6009           50.24s\n",
            "        80           0.5838           33.61s\n",
            "        90           0.5694           16.79s\n",
            "       100           0.5563            0.00s\n",
            "Time taken by GBM 168.61418271064758 Seconds\n"
          ]
        }
      ]
    },
    {
      "cell_type": "markdown",
      "metadata": {
        "id": "UFzjaDCFTOO-"
      },
      "source": [
        "## GBM Results"
      ]
    },
    {
      "cell_type": "code",
      "metadata": {
        "id": "_IdqKxgwHp0w",
        "outputId": "f363b50c-32e2-4a83-883d-0331c5b9ce4b",
        "colab": {
          "base_uri": "https://localhost:8080/"
        }
      },
      "source": [
        "###predicting Gradient boosting model on the train Data\n",
        "boost_predict_train=boost.predict(X_train)\n",
        "cm1 = confusion_matrix(y_train,boost_predict_train)\n",
        "print(cm1)\n",
        "\n",
        "accuracy_train=f1_score(y_train, boost_predict_train, average='micro')\n",
        "print(\"train accuracy\", accuracy_train)"
      ],
      "execution_count": 10,
      "outputs": [
        {
          "output_type": "stream",
          "name": "stdout",
          "text": [
            "[[ 1497   116    16    11   132    54   162    23   330]\n",
            " [   50  6328    91     5    24    74   174     0   117]\n",
            " [   21   196  3352     4     6    86   146     1   152]\n",
            " [    0     3     3  2144     7     0     4     0    56]\n",
            " [  124    18    11     1  2954     7     8    69  3274]\n",
            " [   32   225   271     9     5   767   149     2    98]\n",
            " [  108   188   126     1    13    50 10813    11   142]\n",
            " [   20     7     2    14   264     0    61   934   880]\n",
            " [   77    24    12    18  1377     8    32    94 11437]]\n",
            "train accuracy 0.8025617493316308\n"
          ]
        }
      ]
    },
    {
      "cell_type": "code",
      "metadata": {
        "id": "rnNZq0TbHwiA",
        "outputId": "0591e2ca-c817-4b9b-9c52-cb366c13cf1b",
        "colab": {
          "base_uri": "https://localhost:8080/"
        }
      },
      "source": [
        "###predicting Gradient boosting model on the test Data\n",
        "boost_predict_test=boost.predict(X_test)\n",
        "cm1 = confusion_matrix(y_test,boost_predict_test)\n",
        "print(cm1)\n",
        "\n",
        "accuracy_test=f1_score(y_test, boost_predict_test, average='micro')\n",
        "print(\"test accuracy\", accuracy_test)"
      ],
      "execution_count": 11,
      "outputs": [
        {
          "output_type": "stream",
          "name": "stdout",
          "text": [
            "[[ 310   31    0    1   25    9   41    5   76]\n",
            " [  14 1456   31    1    3   20   49    0   27]\n",
            " [   3   41  850    2    0   26   38    0   31]\n",
            " [   0    0    0  498    1    0    0    1   22]\n",
            " [  21    6    4    0  682    0    2   23  800]\n",
            " [   6   68   78    0    4  150   36    0   29]\n",
            " [  38   38   37    1    2   10 2512    3   42]\n",
            " [   5    1    0    3   68    0   22  169  241]\n",
            " [  20    7    7    9  329    0    8   23 2640]]\n",
            "test accuracy 0.7882783259612114\n"
          ]
        }
      ]
    },
    {
      "cell_type": "markdown",
      "metadata": {
        "id": "ZyjFgaA8KE7D"
      },
      "source": [
        "# XGB Model"
      ]
    },
    {
      "cell_type": "code",
      "metadata": {
        "id": "1Fgvgn-sNeOf"
      },
      "source": [
        "#Creating XGB Friendly data and matrices\n",
        "train_labels = y_train.values\n",
        "train_labels = preprocessing.LabelEncoder().fit_transform(train_labels)\n",
        "test_labels = y_test.values\n",
        "test_labels = preprocessing.LabelEncoder().fit_transform(test_labels)\n",
        "\n",
        "matrix_train = xgboost.DMatrix(X_train,label=train_labels)\n",
        "matrix_test = xgboost.DMatrix(X_test,label=test_labels)"
      ],
      "execution_count": 12,
      "outputs": []
    },
    {
      "cell_type": "code",
      "metadata": {
        "id": "zMgbSHJwLwHD",
        "outputId": "c3cfe836-53f5-42bb-8501-6268814e11be",
        "colab": {
          "base_uri": "https://localhost:8080/"
        }
      },
      "source": [
        "params = {\n",
        "    'max_depth': 4,\n",
        "    'eta':0.1, #Learning Rate\n",
        "    'eval_metric':'merror', # Multiclass classification error rate.\n",
        "    'tree_method' : \"gpu_hist\", # use this with colab in gpu mode for faster training\n",
        "    'num_class': 9\n",
        "}\n",
        "\n",
        "start_time = time.time()\n",
        "\n",
        "model=xgboost.train(params=params,\n",
        "                    dtrain=matrix_train,\n",
        "                    num_boost_round=300,    #Number of trees\n",
        "                    early_stopping_rounds=4, # Stop after 4 rounds, if test error doesn't improve.\n",
        "                    evals=[(matrix_test,'test')]\n",
        "                   )\n",
        "\n",
        "print(\"Time taken by XGB \"+ str((time.time() - start_time))+ \" Seconds\")"
      ],
      "execution_count": 16,
      "outputs": [
        {
          "output_type": "stream",
          "name": "stdout",
          "text": [
            "[0]\ttest-merror:0.31159\n",
            "[1]\ttest-merror:0.29695\n",
            "[2]\ttest-merror:0.29296\n",
            "[3]\ttest-merror:0.28394\n"
          ]
        },
        {
          "output_type": "stream",
          "name": "stderr",
          "text": [
            "/usr/local/lib/python3.10/dist-packages/xgboost/core.py:160: UserWarning: [18:49:18] WARNING: /workspace/src/common/error_msg.cc:27: The tree method `gpu_hist` is deprecated since 2.0.0. To use GPU training, set the `device` parameter to CUDA instead.\n",
            "\n",
            "    E.g. tree_method = \"hist\", device = \"cuda\"\n",
            "\n",
            "  warnings.warn(smsg, UserWarning)\n"
          ]
        },
        {
          "output_type": "stream",
          "name": "stdout",
          "text": [
            "[4]\ttest-merror:0.28088\n",
            "[5]\ttest-merror:0.27518\n",
            "[6]\ttest-merror:0.27348\n",
            "[7]\ttest-merror:0.26956\n",
            "[8]\ttest-merror:0.26727\n",
            "[9]\ttest-merror:0.26735\n",
            "[10]\ttest-merror:0.26395\n",
            "[11]\ttest-merror:0.26267\n",
            "[12]\ttest-merror:0.26106\n",
            "[13]\ttest-merror:0.26114\n",
            "[14]\ttest-merror:0.25978\n",
            "[15]\ttest-merror:0.25851\n",
            "[16]\ttest-merror:0.25783\n",
            "[17]\ttest-merror:0.25519\n",
            "[18]\ttest-merror:0.25408\n",
            "[19]\ttest-merror:0.25272\n",
            "[20]\ttest-merror:0.25264\n",
            "[21]\ttest-merror:0.25187\n",
            "[22]\ttest-merror:0.25009\n",
            "[23]\ttest-merror:0.24855\n",
            "[24]\ttest-merror:0.24634\n",
            "[25]\ttest-merror:0.24702\n",
            "[26]\ttest-merror:0.24592\n",
            "[27]\ttest-merror:0.24600\n",
            "[28]\ttest-merror:0.24617\n",
            "[29]\ttest-merror:0.24592\n",
            "Time taken by XGB 1.6395907402038574 Seconds\n"
          ]
        }
      ]
    },
    {
      "cell_type": "markdown",
      "metadata": {
        "id": "4MqFhLeiTRR8"
      },
      "source": [
        "## XGB Results"
      ]
    },
    {
      "cell_type": "code",
      "metadata": {
        "id": "ZMFjJ82YMw5n",
        "outputId": "73fc32d4-37ca-4640-fbd4-12ab1560e723",
        "colab": {
          "base_uri": "https://localhost:8080/"
        }
      },
      "source": [
        "###prediction using XGB on the train Data\n",
        "boost_predict_train=model.predict(matrix_train)\n",
        "cm1 = confusion_matrix(train_labels,boost_predict_train)\n",
        "print(cm1)\n",
        "\n",
        "accuracy_train=f1_score(train_labels, boost_predict_train, average='micro')\n",
        "print(\"train accuracy\", accuracy_train)"
      ],
      "execution_count": 17,
      "outputs": [
        {
          "output_type": "stream",
          "name": "stdout",
          "text": [
            "[[ 1304   187    16     7   137    40   160    28   462]\n",
            " [   47  6183   105     7    28    65   215     3   210]\n",
            " [   24   231  3165    13     5    97   198     1   230]\n",
            " [    0     1     3  2119     7     0     8     0    79]\n",
            " [  104    27    23     4  1873     5     9    37  4384]\n",
            " [   44   314   370     8     8   490   152     3   169]\n",
            " [  131   249   141     4    36    40 10624     9   218]\n",
            " [   40     4     1    20   150     0    88   620  1259]\n",
            " [   67    33    21    29   938     3    34    58 11896]]\n",
            "train accuracy 0.7636167750688321\n"
          ]
        },
        {
          "output_type": "stream",
          "name": "stderr",
          "text": [
            "/usr/local/lib/python3.10/dist-packages/xgboost/core.py:160: UserWarning: [18:49:35] WARNING: /workspace/src/common/error_msg.cc:27: The tree method `gpu_hist` is deprecated since 2.0.0. To use GPU training, set the `device` parameter to CUDA instead.\n",
            "\n",
            "    E.g. tree_method = \"hist\", device = \"cuda\"\n",
            "\n",
            "  warnings.warn(smsg, UserWarning)\n"
          ]
        }
      ]
    },
    {
      "cell_type": "code",
      "metadata": {
        "id": "C4lt5xN8UHIZ",
        "outputId": "958b948c-7560-4c9c-90b5-d0a94f12b661",
        "colab": {
          "base_uri": "https://localhost:8080/"
        }
      },
      "source": [
        "###prediction using XGB on the test Data\n",
        "boost_predict_test=model.predict(matrix_test)\n",
        "cm1 = confusion_matrix(test_labels,boost_predict_test)\n",
        "print(cm1)\n",
        "\n",
        "accuracy_test=f1_score(test_labels, boost_predict_test, average='micro')\n",
        "print(\"test accuracy\", accuracy_test)"
      ],
      "execution_count": 18,
      "outputs": [
        {
          "output_type": "stream",
          "name": "stdout",
          "text": [
            "[[ 270   43    3    0   30   11   40    8   93]\n",
            " [  15 1436   33    1    5   15   56    0   40]\n",
            " [   1   48  806    2    1   24   53    1   55]\n",
            " [   0    0    0  494    1    0    3    1   23]\n",
            " [  21    9    3    0  416    0    3   12 1074]\n",
            " [   3   94   87    0    2  109   32    0   44]\n",
            " [  34   45   40    0    8   11 2490    1   54]\n",
            " [   9    0    0    4   35    0   30  118  313]\n",
            " [  15   10    8   13  243    0   12   17 2725]]\n",
            "test accuracy 0.7539979584892821\n"
          ]
        }
      ]
    },
    {
      "cell_type": "code",
      "metadata": {
        "id": "6SZu2c4mUl_o"
      },
      "source": [],
      "execution_count": 18,
      "outputs": []
    }
  ]
}